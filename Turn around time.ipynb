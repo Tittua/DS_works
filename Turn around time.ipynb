{
 "cells": [
  {
   "cell_type": "code",
   "execution_count": 1,
   "id": "e5c6cf08",
   "metadata": {},
   "outputs": [],
   "source": [
    "import pandas as pd \n",
    "from scipy import stats"
   ]
  },
  {
   "cell_type": "code",
   "execution_count": 2,
   "id": "ce6305f3",
   "metadata": {},
   "outputs": [],
   "source": [
    "tat=pd.read_csv('LabTAT.csv')"
   ]
  },
  {
   "cell_type": "code",
   "execution_count": 5,
   "id": "da9a25e5",
   "metadata": {},
   "outputs": [
    {
     "data": {
      "text/html": [
       "<div>\n",
       "<style scoped>\n",
       "    .dataframe tbody tr th:only-of-type {\n",
       "        vertical-align: middle;\n",
       "    }\n",
       "\n",
       "    .dataframe tbody tr th {\n",
       "        vertical-align: top;\n",
       "    }\n",
       "\n",
       "    .dataframe thead th {\n",
       "        text-align: right;\n",
       "    }\n",
       "</style>\n",
       "<table border=\"1\" class=\"dataframe\">\n",
       "  <thead>\n",
       "    <tr style=\"text-align: right;\">\n",
       "      <th></th>\n",
       "      <th>Laboratory 1</th>\n",
       "      <th>Laboratory 2</th>\n",
       "      <th>Laboratory 3</th>\n",
       "      <th>Laboratory 4</th>\n",
       "    </tr>\n",
       "  </thead>\n",
       "  <tbody>\n",
       "    <tr>\n",
       "      <th>0</th>\n",
       "      <td>185.35</td>\n",
       "      <td>165.53</td>\n",
       "      <td>176.70</td>\n",
       "      <td>166.13</td>\n",
       "    </tr>\n",
       "    <tr>\n",
       "      <th>1</th>\n",
       "      <td>170.49</td>\n",
       "      <td>185.91</td>\n",
       "      <td>198.45</td>\n",
       "      <td>160.79</td>\n",
       "    </tr>\n",
       "    <tr>\n",
       "      <th>2</th>\n",
       "      <td>192.77</td>\n",
       "      <td>194.92</td>\n",
       "      <td>201.23</td>\n",
       "      <td>185.18</td>\n",
       "    </tr>\n",
       "    <tr>\n",
       "      <th>3</th>\n",
       "      <td>177.33</td>\n",
       "      <td>183.00</td>\n",
       "      <td>199.61</td>\n",
       "      <td>176.42</td>\n",
       "    </tr>\n",
       "    <tr>\n",
       "      <th>4</th>\n",
       "      <td>193.41</td>\n",
       "      <td>169.57</td>\n",
       "      <td>204.63</td>\n",
       "      <td>152.60</td>\n",
       "    </tr>\n",
       "  </tbody>\n",
       "</table>\n",
       "</div>"
      ],
      "text/plain": [
       "   Laboratory 1  Laboratory 2  Laboratory 3  Laboratory 4\n",
       "0        185.35        165.53        176.70        166.13\n",
       "1        170.49        185.91        198.45        160.79\n",
       "2        192.77        194.92        201.23        185.18\n",
       "3        177.33        183.00        199.61        176.42\n",
       "4        193.41        169.57        204.63        152.60"
      ]
     },
     "execution_count": 5,
     "metadata": {},
     "output_type": "execute_result"
    }
   ],
   "source": [
    "tat.head()"
   ]
  },
  {
   "cell_type": "code",
   "execution_count": 6,
   "id": "28c80a04",
   "metadata": {},
   "outputs": [],
   "source": [
    "#Here we have to determine whaether Turn around time of 4 laboratories are equal or not \n",
    "#H0:Average turn around time of all laborataries are equal\n",
    "#H1:Average turn around time of atleast one of them is differnet"
   ]
  },
  {
   "cell_type": "code",
   "execution_count": 7,
   "id": "e957610b",
   "metadata": {},
   "outputs": [],
   "source": [
    "#Here since there are 4 data set to infer from we use the Anova test to arrive at a decision\n",
    "#step1:we have to find the F value for the test\n",
    "#step2:For that particular F value we should find the currosponding p value\n",
    "#step3:compare p value with alpha value and arrive at conclusion"
   ]
  },
  {
   "cell_type": "code",
   "execution_count": 13,
   "id": "28ab80bc",
   "metadata": {},
   "outputs": [
    {
     "name": "stdout",
     "output_type": "stream",
     "text": [
      "F_onewayResult(statistic=118.70421654401437, pvalue=2.1156708949992414e-57)\n"
     ]
    }
   ],
   "source": [
    "values=stats.f_oneway(tat.iloc[:,0],tat.iloc[:,1],tat.iloc[:,2],tat.iloc[:,3])\n",
    "print(values)"
   ]
  },
  {
   "cell_type": "code",
   "execution_count": 15,
   "id": "67c4fb4d",
   "metadata": {},
   "outputs": [],
   "source": [
    "F=values[0]\n",
    "p=values[1]"
   ]
  },
  {
   "cell_type": "code",
   "execution_count": 17,
   "id": "3bf26b53",
   "metadata": {},
   "outputs": [],
   "source": [
    "#Final decision\n",
    "#Given level of significance alpha =5%=.05\n",
    "alpha=.05"
   ]
  },
  {
   "cell_type": "code",
   "execution_count": 19,
   "id": "d69173e8",
   "metadata": {},
   "outputs": [
    {
     "name": "stdout",
     "output_type": "stream",
     "text": [
      "Reject H0 , accept H1:The Average turn around time of atleast one of them is differnet\n"
     ]
    }
   ],
   "source": [
    "if p<alpha:\n",
    "    print(\"Reject H0\",\",\",\"accept H1:The Average turn around time of atleast one of them is differnet\")\n",
    "else:\n",
    "    print(\"Reject H1\",\",\",\"Accept H0:Average turn around time of all laborataries are equal\")"
   ]
  },
  {
   "cell_type": "markdown",
   "id": "d70b50a6",
   "metadata": {},
   "source": [
    "## Final ans:Reject H0 , accept H1:The Average turn around time of atleast one of them is differnet"
   ]
  }
 ],
 "metadata": {
  "kernelspec": {
   "display_name": "Python 3 (ipykernel)",
   "language": "python",
   "name": "python3"
  },
  "language_info": {
   "codemirror_mode": {
    "name": "ipython",
    "version": 3
   },
   "file_extension": ".py",
   "mimetype": "text/x-python",
   "name": "python",
   "nbconvert_exporter": "python",
   "pygments_lexer": "ipython3",
   "version": "3.9.12"
  }
 },
 "nbformat": 4,
 "nbformat_minor": 5
}
