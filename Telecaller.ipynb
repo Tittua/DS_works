{
 "cells": [
  {
   "cell_type": "code",
   "execution_count": 2,
   "id": "4965a2f4",
   "metadata": {},
   "outputs": [],
   "source": [
    "import pandas as pd\n",
    "from scipy import stats"
   ]
  },
  {
   "cell_type": "code",
   "execution_count": 49,
   "id": "3aaf5b0e",
   "metadata": {},
   "outputs": [],
   "source": [
    "tele=pd.read_csv('Costomer+OrderForm.csv')"
   ]
  },
  {
   "cell_type": "code",
   "execution_count": 50,
   "id": "384c3af5",
   "metadata": {},
   "outputs": [
    {
     "data": {
      "text/html": [
       "<div>\n",
       "<style scoped>\n",
       "    .dataframe tbody tr th:only-of-type {\n",
       "        vertical-align: middle;\n",
       "    }\n",
       "\n",
       "    .dataframe tbody tr th {\n",
       "        vertical-align: top;\n",
       "    }\n",
       "\n",
       "    .dataframe thead th {\n",
       "        text-align: right;\n",
       "    }\n",
       "</style>\n",
       "<table border=\"1\" class=\"dataframe\">\n",
       "  <thead>\n",
       "    <tr style=\"text-align: right;\">\n",
       "      <th></th>\n",
       "      <th>Phillippines</th>\n",
       "      <th>Indonesia</th>\n",
       "      <th>Malta</th>\n",
       "      <th>India</th>\n",
       "    </tr>\n",
       "  </thead>\n",
       "  <tbody>\n",
       "    <tr>\n",
       "      <th>0</th>\n",
       "      <td>Error Free</td>\n",
       "      <td>Error Free</td>\n",
       "      <td>Defective</td>\n",
       "      <td>Error Free</td>\n",
       "    </tr>\n",
       "    <tr>\n",
       "      <th>1</th>\n",
       "      <td>Error Free</td>\n",
       "      <td>Error Free</td>\n",
       "      <td>Error Free</td>\n",
       "      <td>Defective</td>\n",
       "    </tr>\n",
       "    <tr>\n",
       "      <th>2</th>\n",
       "      <td>Error Free</td>\n",
       "      <td>Defective</td>\n",
       "      <td>Defective</td>\n",
       "      <td>Error Free</td>\n",
       "    </tr>\n",
       "    <tr>\n",
       "      <th>3</th>\n",
       "      <td>Error Free</td>\n",
       "      <td>Error Free</td>\n",
       "      <td>Error Free</td>\n",
       "      <td>Error Free</td>\n",
       "    </tr>\n",
       "    <tr>\n",
       "      <th>4</th>\n",
       "      <td>Error Free</td>\n",
       "      <td>Error Free</td>\n",
       "      <td>Defective</td>\n",
       "      <td>Error Free</td>\n",
       "    </tr>\n",
       "  </tbody>\n",
       "</table>\n",
       "</div>"
      ],
      "text/plain": [
       "  Phillippines   Indonesia       Malta       India\n",
       "0   Error Free  Error Free   Defective  Error Free\n",
       "1   Error Free  Error Free  Error Free   Defective\n",
       "2   Error Free   Defective   Defective  Error Free\n",
       "3   Error Free  Error Free  Error Free  Error Free\n",
       "4   Error Free  Error Free   Defective  Error Free"
      ]
     },
     "execution_count": 50,
     "metadata": {},
     "output_type": "execute_result"
    }
   ],
   "source": [
    "tele.head()"
   ]
  },
  {
   "cell_type": "code",
   "execution_count": 60,
   "id": "e87e29d4",
   "metadata": {},
   "outputs": [
    {
     "data": {
      "text/plain": [
       "9"
      ]
     },
     "execution_count": 60,
     "metadata": {},
     "output_type": "execute_result"
    }
   ],
   "source": [
    "len('Defective')"
   ]
  },
  {
   "cell_type": "code",
   "execution_count": 61,
   "id": "e725ace6",
   "metadata": {},
   "outputs": [],
   "source": [
    "#Define hypothesis\n",
    "#H0:defective % does not varies with respect to center\n",
    "#Ha:Defective % varies with respect to cnters"
   ]
  },
  {
   "cell_type": "code",
   "execution_count": 57,
   "id": "72e3d53c",
   "metadata": {},
   "outputs": [],
   "source": [
    "#Function which is use to convert error free to value 0 and defective to value 1,which is converting non quantitative elements to quantitative \n",
    "def change(x):\n",
    "    if len(x)==9:\n",
    "        x=1\n",
    "    else:\n",
    "        x=0\n",
    "    return x"
   ]
  },
  {
   "cell_type": "code",
   "execution_count": 52,
   "id": "22c4332f",
   "metadata": {},
   "outputs": [],
   "source": [
    "#Function call\n",
    "tele['Phillippines']=tele['Phillippines'].map(change)\n",
    "tele['Indonesia']=tele['Indonesia'].map(change)\n",
    "tele['Malta']=tele['Malta'].map(change)\n",
    "tele['India']=tele['India'].map(change)"
   ]
  },
  {
   "cell_type": "code",
   "execution_count": 53,
   "id": "1b48641f",
   "metadata": {},
   "outputs": [
    {
     "data": {
      "text/html": [
       "<div>\n",
       "<style scoped>\n",
       "    .dataframe tbody tr th:only-of-type {\n",
       "        vertical-align: middle;\n",
       "    }\n",
       "\n",
       "    .dataframe tbody tr th {\n",
       "        vertical-align: top;\n",
       "    }\n",
       "\n",
       "    .dataframe thead th {\n",
       "        text-align: right;\n",
       "    }\n",
       "</style>\n",
       "<table border=\"1\" class=\"dataframe\">\n",
       "  <thead>\n",
       "    <tr style=\"text-align: right;\">\n",
       "      <th></th>\n",
       "      <th>Phillippines</th>\n",
       "      <th>Indonesia</th>\n",
       "      <th>Malta</th>\n",
       "      <th>India</th>\n",
       "    </tr>\n",
       "  </thead>\n",
       "  <tbody>\n",
       "    <tr>\n",
       "      <th>0</th>\n",
       "      <td>0</td>\n",
       "      <td>0</td>\n",
       "      <td>1</td>\n",
       "      <td>0</td>\n",
       "    </tr>\n",
       "    <tr>\n",
       "      <th>1</th>\n",
       "      <td>0</td>\n",
       "      <td>0</td>\n",
       "      <td>0</td>\n",
       "      <td>1</td>\n",
       "    </tr>\n",
       "    <tr>\n",
       "      <th>2</th>\n",
       "      <td>0</td>\n",
       "      <td>1</td>\n",
       "      <td>1</td>\n",
       "      <td>0</td>\n",
       "    </tr>\n",
       "    <tr>\n",
       "      <th>3</th>\n",
       "      <td>0</td>\n",
       "      <td>0</td>\n",
       "      <td>0</td>\n",
       "      <td>0</td>\n",
       "    </tr>\n",
       "    <tr>\n",
       "      <th>4</th>\n",
       "      <td>0</td>\n",
       "      <td>0</td>\n",
       "      <td>1</td>\n",
       "      <td>0</td>\n",
       "    </tr>\n",
       "  </tbody>\n",
       "</table>\n",
       "</div>"
      ],
      "text/plain": [
       "   Phillippines  Indonesia  Malta  India\n",
       "0             0          0      1      0\n",
       "1             0          0      0      1\n",
       "2             0          1      1      0\n",
       "3             0          0      0      0\n",
       "4             0          0      1      0"
      ]
     },
     "execution_count": 53,
     "metadata": {},
     "output_type": "execute_result"
    }
   ],
   "source": [
    "#We can make uses of anova test to arrive at the conclusion for that wew have to find the F value and currosponding p value \n",
    "#then compare the p value with the level of significance (alpha=.05) and arrive at a conclusion\n",
    "tele.head()"
   ]
  },
  {
   "cell_type": "code",
   "execution_count": 56,
   "id": "09d13a40",
   "metadata": {},
   "outputs": [
    {
     "data": {
      "text/plain": [
       "F_onewayResult(statistic=1.286168556089167, pvalue=0.2776780955705948)"
      ]
     },
     "execution_count": 56,
     "metadata": {},
     "output_type": "execute_result"
    }
   ],
   "source": [
    "values=stats.f_oneway(tele.iloc[:,0],tele.iloc[:,1],tele.iloc[:,2],tele.iloc[:,3])\n",
    "values"
   ]
  },
  {
   "cell_type": "code",
   "execution_count": 63,
   "id": "8e8445b3",
   "metadata": {},
   "outputs": [],
   "source": [
    "#To find the value of F and P\n",
    "F=values[0]\n",
    "P=values[1]\n",
    "alpha=.05"
   ]
  },
  {
   "cell_type": "code",
   "execution_count": 65,
   "id": "0e68efeb",
   "metadata": {},
   "outputs": [
    {
     "name": "stdout",
     "output_type": "stream",
     "text": [
      "Rejcet H1, and accept H0:defective % does not varies with respect to center\n"
     ]
    }
   ],
   "source": [
    "#Comparing the value of p with level of significance (alpha=.05)\n",
    "if P<alpha:\n",
    "    print(\"Reject H0,and accept H1:Defective % varies with respect to centers\")\n",
    "else:\n",
    "    print(\"Rejcet H1, and accept H0:defective % does not varies with respect to center\")"
   ]
  },
  {
   "cell_type": "markdown",
   "id": "cb33c861",
   "metadata": {},
   "source": [
    "## Based on the anova hypothesis test we can infer that the Defective percentage does not varies with respect to different center"
   ]
  }
 ],
 "metadata": {
  "kernelspec": {
   "display_name": "Python 3 (ipykernel)",
   "language": "python",
   "name": "python3"
  },
  "language_info": {
   "codemirror_mode": {
    "name": "ipython",
    "version": 3
   },
   "file_extension": ".py",
   "mimetype": "text/x-python",
   "name": "python",
   "nbconvert_exporter": "python",
   "pygments_lexer": "ipython3",
   "version": "3.9.12"
  }
 },
 "nbformat": 4,
 "nbformat_minor": 5
}
