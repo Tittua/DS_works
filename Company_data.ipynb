{
  "nbformat": 4,
  "nbformat_minor": 0,
  "metadata": {
    "colab": {
      "name": "Company_data.ipynb",
      "provenance": [],
      "collapsed_sections": []
    },
    "kernelspec": {
      "name": "python3",
      "display_name": "Python 3"
    },
    "language_info": {
      "name": "python"
    }
  },
  "cells": [
    {
      "cell_type": "code",
      "execution_count": 146,
      "metadata": {
        "id": "unPwgOl-ToPs"
      },
      "outputs": [],
      "source": [
        "import pandas as pd\n",
        "import matplotlib.pyplot as plt\n",
        "import seaborn as sns\n",
        "import numpy as np"
      ]
    },
    {
      "cell_type": "code",
      "source": [
        "data=pd.read_csv('/content/Company_Data.csv')\n",
        "data.head()"
      ],
      "metadata": {
        "colab": {
          "base_uri": "https://localhost:8080/",
          "height": 206
        },
        "id": "Peq3JswoT02e",
        "outputId": "6892f443-83a9-4228-c9ab-af74fe0caff9"
      },
      "execution_count": 147,
      "outputs": [
        {
          "output_type": "execute_result",
          "data": {
            "text/plain": [
              "   Sales  CompPrice  Income  Advertising  Population  Price ShelveLoc  Age  \\\n",
              "0   9.50        138      73           11         276    120       Bad   42   \n",
              "1  11.22        111      48           16         260     83      Good   65   \n",
              "2  10.06        113      35           10         269     80    Medium   59   \n",
              "3   7.40        117     100            4         466     97    Medium   55   \n",
              "4   4.15        141      64            3         340    128       Bad   38   \n",
              "\n",
              "   Education Urban   US  \n",
              "0         17   Yes  Yes  \n",
              "1         10   Yes  Yes  \n",
              "2         12   Yes  Yes  \n",
              "3         14   Yes  Yes  \n",
              "4         13   Yes   No  "
            ],
            "text/html": [
              "\n",
              "  <div id=\"df-25002ae1-731c-4f94-a8be-549a54d39333\">\n",
              "    <div class=\"colab-df-container\">\n",
              "      <div>\n",
              "<style scoped>\n",
              "    .dataframe tbody tr th:only-of-type {\n",
              "        vertical-align: middle;\n",
              "    }\n",
              "\n",
              "    .dataframe tbody tr th {\n",
              "        vertical-align: top;\n",
              "    }\n",
              "\n",
              "    .dataframe thead th {\n",
              "        text-align: right;\n",
              "    }\n",
              "</style>\n",
              "<table border=\"1\" class=\"dataframe\">\n",
              "  <thead>\n",
              "    <tr style=\"text-align: right;\">\n",
              "      <th></th>\n",
              "      <th>Sales</th>\n",
              "      <th>CompPrice</th>\n",
              "      <th>Income</th>\n",
              "      <th>Advertising</th>\n",
              "      <th>Population</th>\n",
              "      <th>Price</th>\n",
              "      <th>ShelveLoc</th>\n",
              "      <th>Age</th>\n",
              "      <th>Education</th>\n",
              "      <th>Urban</th>\n",
              "      <th>US</th>\n",
              "    </tr>\n",
              "  </thead>\n",
              "  <tbody>\n",
              "    <tr>\n",
              "      <th>0</th>\n",
              "      <td>9.50</td>\n",
              "      <td>138</td>\n",
              "      <td>73</td>\n",
              "      <td>11</td>\n",
              "      <td>276</td>\n",
              "      <td>120</td>\n",
              "      <td>Bad</td>\n",
              "      <td>42</td>\n",
              "      <td>17</td>\n",
              "      <td>Yes</td>\n",
              "      <td>Yes</td>\n",
              "    </tr>\n",
              "    <tr>\n",
              "      <th>1</th>\n",
              "      <td>11.22</td>\n",
              "      <td>111</td>\n",
              "      <td>48</td>\n",
              "      <td>16</td>\n",
              "      <td>260</td>\n",
              "      <td>83</td>\n",
              "      <td>Good</td>\n",
              "      <td>65</td>\n",
              "      <td>10</td>\n",
              "      <td>Yes</td>\n",
              "      <td>Yes</td>\n",
              "    </tr>\n",
              "    <tr>\n",
              "      <th>2</th>\n",
              "      <td>10.06</td>\n",
              "      <td>113</td>\n",
              "      <td>35</td>\n",
              "      <td>10</td>\n",
              "      <td>269</td>\n",
              "      <td>80</td>\n",
              "      <td>Medium</td>\n",
              "      <td>59</td>\n",
              "      <td>12</td>\n",
              "      <td>Yes</td>\n",
              "      <td>Yes</td>\n",
              "    </tr>\n",
              "    <tr>\n",
              "      <th>3</th>\n",
              "      <td>7.40</td>\n",
              "      <td>117</td>\n",
              "      <td>100</td>\n",
              "      <td>4</td>\n",
              "      <td>466</td>\n",
              "      <td>97</td>\n",
              "      <td>Medium</td>\n",
              "      <td>55</td>\n",
              "      <td>14</td>\n",
              "      <td>Yes</td>\n",
              "      <td>Yes</td>\n",
              "    </tr>\n",
              "    <tr>\n",
              "      <th>4</th>\n",
              "      <td>4.15</td>\n",
              "      <td>141</td>\n",
              "      <td>64</td>\n",
              "      <td>3</td>\n",
              "      <td>340</td>\n",
              "      <td>128</td>\n",
              "      <td>Bad</td>\n",
              "      <td>38</td>\n",
              "      <td>13</td>\n",
              "      <td>Yes</td>\n",
              "      <td>No</td>\n",
              "    </tr>\n",
              "  </tbody>\n",
              "</table>\n",
              "</div>\n",
              "      <button class=\"colab-df-convert\" onclick=\"convertToInteractive('df-25002ae1-731c-4f94-a8be-549a54d39333')\"\n",
              "              title=\"Convert this dataframe to an interactive table.\"\n",
              "              style=\"display:none;\">\n",
              "        \n",
              "  <svg xmlns=\"http://www.w3.org/2000/svg\" height=\"24px\"viewBox=\"0 0 24 24\"\n",
              "       width=\"24px\">\n",
              "    <path d=\"M0 0h24v24H0V0z\" fill=\"none\"/>\n",
              "    <path d=\"M18.56 5.44l.94 2.06.94-2.06 2.06-.94-2.06-.94-.94-2.06-.94 2.06-2.06.94zm-11 1L8.5 8.5l.94-2.06 2.06-.94-2.06-.94L8.5 2.5l-.94 2.06-2.06.94zm10 10l.94 2.06.94-2.06 2.06-.94-2.06-.94-.94-2.06-.94 2.06-2.06.94z\"/><path d=\"M17.41 7.96l-1.37-1.37c-.4-.4-.92-.59-1.43-.59-.52 0-1.04.2-1.43.59L10.3 9.45l-7.72 7.72c-.78.78-.78 2.05 0 2.83L4 21.41c.39.39.9.59 1.41.59.51 0 1.02-.2 1.41-.59l7.78-7.78 2.81-2.81c.8-.78.8-2.07 0-2.86zM5.41 20L4 18.59l7.72-7.72 1.47 1.35L5.41 20z\"/>\n",
              "  </svg>\n",
              "      </button>\n",
              "      \n",
              "  <style>\n",
              "    .colab-df-container {\n",
              "      display:flex;\n",
              "      flex-wrap:wrap;\n",
              "      gap: 12px;\n",
              "    }\n",
              "\n",
              "    .colab-df-convert {\n",
              "      background-color: #E8F0FE;\n",
              "      border: none;\n",
              "      border-radius: 50%;\n",
              "      cursor: pointer;\n",
              "      display: none;\n",
              "      fill: #1967D2;\n",
              "      height: 32px;\n",
              "      padding: 0 0 0 0;\n",
              "      width: 32px;\n",
              "    }\n",
              "\n",
              "    .colab-df-convert:hover {\n",
              "      background-color: #E2EBFA;\n",
              "      box-shadow: 0px 1px 2px rgba(60, 64, 67, 0.3), 0px 1px 3px 1px rgba(60, 64, 67, 0.15);\n",
              "      fill: #174EA6;\n",
              "    }\n",
              "\n",
              "    [theme=dark] .colab-df-convert {\n",
              "      background-color: #3B4455;\n",
              "      fill: #D2E3FC;\n",
              "    }\n",
              "\n",
              "    [theme=dark] .colab-df-convert:hover {\n",
              "      background-color: #434B5C;\n",
              "      box-shadow: 0px 1px 3px 1px rgba(0, 0, 0, 0.15);\n",
              "      filter: drop-shadow(0px 1px 2px rgba(0, 0, 0, 0.3));\n",
              "      fill: #FFFFFF;\n",
              "    }\n",
              "  </style>\n",
              "\n",
              "      <script>\n",
              "        const buttonEl =\n",
              "          document.querySelector('#df-25002ae1-731c-4f94-a8be-549a54d39333 button.colab-df-convert');\n",
              "        buttonEl.style.display =\n",
              "          google.colab.kernel.accessAllowed ? 'block' : 'none';\n",
              "\n",
              "        async function convertToInteractive(key) {\n",
              "          const element = document.querySelector('#df-25002ae1-731c-4f94-a8be-549a54d39333');\n",
              "          const dataTable =\n",
              "            await google.colab.kernel.invokeFunction('convertToInteractive',\n",
              "                                                     [key], {});\n",
              "          if (!dataTable) return;\n",
              "\n",
              "          const docLinkHtml = 'Like what you see? Visit the ' +\n",
              "            '<a target=\"_blank\" href=https://colab.research.google.com/notebooks/data_table.ipynb>data table notebook</a>'\n",
              "            + ' to learn more about interactive tables.';\n",
              "          element.innerHTML = '';\n",
              "          dataTable['output_type'] = 'display_data';\n",
              "          await google.colab.output.renderOutput(dataTable, element);\n",
              "          const docLink = document.createElement('div');\n",
              "          docLink.innerHTML = docLinkHtml;\n",
              "          element.appendChild(docLink);\n",
              "        }\n",
              "      </script>\n",
              "    </div>\n",
              "  </div>\n",
              "  "
            ]
          },
          "metadata": {},
          "execution_count": 147
        }
      ]
    },
    {
      "cell_type": "markdown",
      "source": [
        "Understanding the dataset"
      ],
      "metadata": {
        "id": "CZ4rgRTGWYt6"
      }
    },
    {
      "cell_type": "code",
      "source": [
        "data.info()"
      ],
      "metadata": {
        "colab": {
          "base_uri": "https://localhost:8080/"
        },
        "id": "aTcPuxLWWavW",
        "outputId": "7bd85096-8a0e-4fb0-cabd-37cf4699cb63"
      },
      "execution_count": 148,
      "outputs": [
        {
          "output_type": "stream",
          "name": "stdout",
          "text": [
            "<class 'pandas.core.frame.DataFrame'>\n",
            "RangeIndex: 400 entries, 0 to 399\n",
            "Data columns (total 11 columns):\n",
            " #   Column       Non-Null Count  Dtype  \n",
            "---  ------       --------------  -----  \n",
            " 0   Sales        400 non-null    float64\n",
            " 1   CompPrice    400 non-null    int64  \n",
            " 2   Income       400 non-null    int64  \n",
            " 3   Advertising  400 non-null    int64  \n",
            " 4   Population   400 non-null    int64  \n",
            " 5   Price        400 non-null    int64  \n",
            " 6   ShelveLoc    400 non-null    object \n",
            " 7   Age          400 non-null    int64  \n",
            " 8   Education    400 non-null    int64  \n",
            " 9   Urban        400 non-null    object \n",
            " 10  US           400 non-null    object \n",
            "dtypes: float64(1), int64(7), object(3)\n",
            "memory usage: 34.5+ KB\n"
          ]
        }
      ]
    },
    {
      "cell_type": "markdown",
      "source": [
        "This helps to gives the idea of no:of data  in the dataset"
      ],
      "metadata": {
        "id": "Yiw29d-6Wc7E"
      }
    },
    {
      "cell_type": "code",
      "source": [
        "col_name=['Sales', 'CompPrice', 'Income', 'Advertising', 'Population', 'Price', 'Age', 'Education']\n",
        "fig=plt.figure(figsize=(10,15))\n",
        "for i in range(0,len(col_name)):\n",
        "  plt.subplot(4,2,i+1)\n",
        "  sns.distplot(data[col_name[i]])"
      ],
      "metadata": {
        "colab": {
          "base_uri": "https://localhost:8080/",
          "height": 1000
        },
        "id": "8KPPtloZWikJ",
        "outputId": "871cd492-854b-4911-ed7d-d18dece76d94"
      },
      "execution_count": 149,
      "outputs": [
        {
          "output_type": "stream",
          "name": "stderr",
          "text": [
            "/usr/local/lib/python3.7/dist-packages/seaborn/distributions.py:2619: FutureWarning: `distplot` is a deprecated function and will be removed in a future version. Please adapt your code to use either `displot` (a figure-level function with similar flexibility) or `histplot` (an axes-level function for histograms).\n",
            "  warnings.warn(msg, FutureWarning)\n",
            "/usr/local/lib/python3.7/dist-packages/seaborn/distributions.py:2619: FutureWarning: `distplot` is a deprecated function and will be removed in a future version. Please adapt your code to use either `displot` (a figure-level function with similar flexibility) or `histplot` (an axes-level function for histograms).\n",
            "  warnings.warn(msg, FutureWarning)\n",
            "/usr/local/lib/python3.7/dist-packages/seaborn/distributions.py:2619: FutureWarning: `distplot` is a deprecated function and will be removed in a future version. Please adapt your code to use either `displot` (a figure-level function with similar flexibility) or `histplot` (an axes-level function for histograms).\n",
            "  warnings.warn(msg, FutureWarning)\n",
            "/usr/local/lib/python3.7/dist-packages/seaborn/distributions.py:2619: FutureWarning: `distplot` is a deprecated function and will be removed in a future version. Please adapt your code to use either `displot` (a figure-level function with similar flexibility) or `histplot` (an axes-level function for histograms).\n",
            "  warnings.warn(msg, FutureWarning)\n",
            "/usr/local/lib/python3.7/dist-packages/seaborn/distributions.py:2619: FutureWarning: `distplot` is a deprecated function and will be removed in a future version. Please adapt your code to use either `displot` (a figure-level function with similar flexibility) or `histplot` (an axes-level function for histograms).\n",
            "  warnings.warn(msg, FutureWarning)\n",
            "/usr/local/lib/python3.7/dist-packages/seaborn/distributions.py:2619: FutureWarning: `distplot` is a deprecated function and will be removed in a future version. Please adapt your code to use either `displot` (a figure-level function with similar flexibility) or `histplot` (an axes-level function for histograms).\n",
            "  warnings.warn(msg, FutureWarning)\n",
            "/usr/local/lib/python3.7/dist-packages/seaborn/distributions.py:2619: FutureWarning: `distplot` is a deprecated function and will be removed in a future version. Please adapt your code to use either `displot` (a figure-level function with similar flexibility) or `histplot` (an axes-level function for histograms).\n",
            "  warnings.warn(msg, FutureWarning)\n",
            "/usr/local/lib/python3.7/dist-packages/seaborn/distributions.py:2619: FutureWarning: `distplot` is a deprecated function and will be removed in a future version. Please adapt your code to use either `displot` (a figure-level function with similar flexibility) or `histplot` (an axes-level function for histograms).\n",
            "  warnings.warn(msg, FutureWarning)\n"
          ]
        },
        {
          "output_type": "display_data",
          "data": {
            "text/plain": [
              "<Figure size 720x1080 with 8 Axes>"
            ],
            "image/png": "[encoded data removed]"
          },
          "metadata": {
            "needs_background": "light"
          }
        }
      ]
    },
    {
      "cell_type": "markdown",
      "source": [
        "Gives inference regaurding the distribution of the dataset"
      ],
      "metadata": {
        "id": "d-cXDIL1YQSa"
      }
    },
    {
      "cell_type": "code",
      "source": [
        "col_name=['Sales', 'CompPrice', 'Income', 'Advertising', 'Population', 'Price', 'Age', 'Education']\n",
        "fig=plt.figure(figsize=(10,15))\n",
        "for i in range(0,len(col_name)):\n",
        "  plt.subplot(4,2,i+1)\n",
        "  sns.countplot(data[col_name[i]])"
      ],
      "metadata": {
        "colab": {
          "base_uri": "https://localhost:8080/",
          "height": 1000
        },
        "id": "ZyEZ50VM1b6R",
        "outputId": "0a7f16c5-351e-47b3-8dc2-9576ef8be78e"
      },
      "execution_count": 150,
      "outputs": [
        {
          "output_type": "stream",
          "name": "stderr",
          "text": [
            "/usr/local/lib/python3.7/dist-packages/seaborn/_decorators.py:43: FutureWarning: Pass the following variable as a keyword arg: x. From version 0.12, the only valid positional argument will be `data`, and passing other arguments without an explicit keyword will result in an error or misinterpretation.\n",
            "  FutureWarning\n",
            "/usr/local/lib/python3.7/dist-packages/seaborn/_decorators.py:43: FutureWarning: Pass the following variable as a keyword arg: x. From version 0.12, the only valid positional argument will be `data`, and passing other arguments without an explicit keyword will result in an error or misinterpretation.\n",
            "  FutureWarning\n",
            "/usr/local/lib/python3.7/dist-packages/seaborn/_decorators.py:43: FutureWarning: Pass the following variable as a keyword arg: x. From version 0.12, the only valid positional argument will be `data`, and passing other arguments without an explicit keyword will result in an error or misinterpretation.\n",
            "  FutureWarning\n",
            "/usr/local/lib/python3.7/dist-packages/seaborn/_decorators.py:43: FutureWarning: Pass the following variable as a keyword arg: x. From version 0.12, the only valid positional argument will be `data`, and passing other arguments without an explicit keyword will result in an error or misinterpretation.\n",
            "  FutureWarning\n",
            "/usr/local/lib/python3.7/dist-packages/seaborn/_decorators.py:43: FutureWarning: Pass the following variable as a keyword arg: x. From version 0.12, the only valid positional argument will be `data`, and passing other arguments without an explicit keyword will result in an error or misinterpretation.\n",
            "  FutureWarning\n",
            "/usr/local/lib/python3.7/dist-packages/seaborn/_decorators.py:43: FutureWarning: Pass the following variable as a keyword arg: x. From version 0.12, the only valid positional argument will be `data`, and passing other arguments without an explicit keyword will result in an error or misinterpretation.\n",
            "  FutureWarning\n",
            "/usr/local/lib/python3.7/dist-packages/seaborn/_decorators.py:43: FutureWarning: Pass the following variable as a keyword arg: x. From version 0.12, the only valid positional argument will be `data`, and passing other arguments without an explicit keyword will result in an error or misinterpretation.\n",
            "  FutureWarning\n",
            "/usr/local/lib/python3.7/dist-packages/seaborn/_decorators.py:43: FutureWarning: Pass the following variable as a keyword arg: x. From version 0.12, the only valid positional argument will be `data`, and passing other arguments without an explicit keyword will result in an error or misinterpretation.\n",
            "  FutureWarning\n"
          ]
        },
        {
          "output_type": "display_data",
          "data": {
            "text/plain": [
              "<Figure size 720x1080 with 8 Axes>"
            ],
            "image/png": "[encoded data removed]"
          },
          "metadata": {
            "needs_background": "light"
          }
        }
      ]
    },
    {
      "cell_type": "markdown",
      "source": [
        "Data cleaning"
      ],
      "metadata": {
        "id": "bcgfD6RG1r_A"
      }
    },
    {
      "cell_type": "markdown",
      "source": [
        "1.Missing values"
      ],
      "metadata": {
        "id": "08TViF_c1yE6"
      }
    },
    {
      "cell_type": "code",
      "source": [
        "data.info()"
      ],
      "metadata": {
        "colab": {
          "base_uri": "https://localhost:8080/"
        },
        "id": "gwvLf6u02L6o",
        "outputId": "197a9091-ba99-4d75-bbc7-822c163ef29f"
      },
      "execution_count": 151,
      "outputs": [
        {
          "output_type": "stream",
          "name": "stdout",
          "text": [
            "<class 'pandas.core.frame.DataFrame'>\n",
            "RangeIndex: 400 entries, 0 to 399\n",
            "Data columns (total 11 columns):\n",
            " #   Column       Non-Null Count  Dtype  \n",
            "---  ------       --------------  -----  \n",
            " 0   Sales        400 non-null    float64\n",
            " 1   CompPrice    400 non-null    int64  \n",
            " 2   Income       400 non-null    int64  \n",
            " 3   Advertising  400 non-null    int64  \n",
            " 4   Population   400 non-null    int64  \n",
            " 5   Price        400 non-null    int64  \n",
            " 6   ShelveLoc    400 non-null    object \n",
            " 7   Age          400 non-null    int64  \n",
            " 8   Education    400 non-null    int64  \n",
            " 9   Urban        400 non-null    object \n",
            " 10  US           400 non-null    object \n",
            "dtypes: float64(1), int64(7), object(3)\n",
            "memory usage: 34.5+ KB\n"
          ]
        }
      ]
    },
    {
      "cell_type": "code",
      "source": [
        "data.isnull().sum()"
      ],
      "metadata": {
        "colab": {
          "base_uri": "https://localhost:8080/"
        },
        "id": "nLF_5w6O1tW9",
        "outputId": "82df7b6c-0d2d-42dc-dfc7-617a0a525a62"
      },
      "execution_count": 152,
      "outputs": [
        {
          "output_type": "execute_result",
          "data": {
            "text/plain": [
              "Sales          0\n",
              "CompPrice      0\n",
              "Income         0\n",
              "Advertising    0\n",
              "Population     0\n",
              "Price          0\n",
              "ShelveLoc      0\n",
              "Age            0\n",
              "Education      0\n",
              "Urban          0\n",
              "US             0\n",
              "dtype: int64"
            ]
          },
          "metadata": {},
          "execution_count": 152
        }
      ]
    },
    {
      "cell_type": "code",
      "source": [
        "sns.heatmap(data.isnull(),cmap='viridis')"
      ],
      "metadata": {
        "colab": {
          "base_uri": "https://localhost:8080/",
          "height": 335
        },
        "id": "Gu-Mglyk2Gvt",
        "outputId": "0dbd2be0-f708-4ced-e671-994e5cd69f91"
      },
      "execution_count": 153,
      "outputs": [
        {
          "output_type": "execute_result",
          "data": {
            "text/plain": [
              "<matplotlib.axes._subplots.AxesSubplot at 0x7f73f574d4d0>"
            ]
          },
          "metadata": {},
          "execution_count": 153
        },
        {
          "output_type": "display_data",
          "data": {
            "text/plain": [
              "<Figure size 432x288 with 2 Axes>"
            ],
            "image/png": "[encoded data removed]"
          },
          "metadata": {
            "needs_background": "light"
          }
        }
      ]
    },
    {
      "cell_type": "markdown",
      "source": [
        "There is no missing values in the dataset"
      ],
      "metadata": {
        "id": "FUiyAypg13kJ"
      }
    },
    {
      "cell_type": "markdown",
      "source": [
        "2.Duplicates"
      ],
      "metadata": {
        "id": "Z4HIGlj7167N"
      }
    },
    {
      "cell_type": "code",
      "source": [
        "data.duplicated().sum()"
      ],
      "metadata": {
        "colab": {
          "base_uri": "https://localhost:8080/"
        },
        "id": "PlQOMa9712iI",
        "outputId": "68d9d6fd-d3b2-4223-f6d5-429c47ce87ba"
      },
      "execution_count": 154,
      "outputs": [
        {
          "output_type": "execute_result",
          "data": {
            "text/plain": [
              "0"
            ]
          },
          "metadata": {},
          "execution_count": 154
        }
      ]
    },
    {
      "cell_type": "markdown",
      "source": [
        "There is no duplicates present in the dataset"
      ],
      "metadata": {
        "id": "0RusGFyC1_Jp"
      }
    },
    {
      "cell_type": "markdown",
      "source": [
        "Outlier detection"
      ],
      "metadata": {
        "id": "iGOlwhDx6Kl5"
      }
    },
    {
      "cell_type": "code",
      "source": [
        "col_name=[ 'CompPrice', 'Income', 'Advertising', 'Population', 'Price', 'Age', 'Education']\n",
        "fig=plt.figure(figsize=(10,15))\n",
        "for i in range(0,len(col_name)):\n",
        "  plt.subplot(4,2,i+1)\n",
        "  sns.boxplot(data[col_name[i]])"
      ],
      "metadata": {
        "colab": {
          "base_uri": "https://localhost:8080/",
          "height": 1000
        },
        "id": "fIoAAyS_6MUr",
        "outputId": "455ba42e-046d-44fe-8b6e-ff00639007fd"
      },
      "execution_count": 155,
      "outputs": [
        {
          "output_type": "stream",
          "name": "stderr",
          "text": [
            "/usr/local/lib/python3.7/dist-packages/seaborn/_decorators.py:43: FutureWarning: Pass the following variable as a keyword arg: x. From version 0.12, the only valid positional argument will be `data`, and passing other arguments without an explicit keyword will result in an error or misinterpretation.\n",
            "  FutureWarning\n",
            "/usr/local/lib/python3.7/dist-packages/seaborn/_decorators.py:43: FutureWarning: Pass the following variable as a keyword arg: x. From version 0.12, the only valid positional argument will be `data`, and passing other arguments without an explicit keyword will result in an error or misinterpretation.\n",
            "  FutureWarning\n",
            "/usr/local/lib/python3.7/dist-packages/seaborn/_decorators.py:43: FutureWarning: Pass the following variable as a keyword arg: x. From version 0.12, the only valid positional argument will be `data`, and passing other arguments without an explicit keyword will result in an error or misinterpretation.\n",
            "  FutureWarning\n",
            "/usr/local/lib/python3.7/dist-packages/seaborn/_decorators.py:43: FutureWarning: Pass the following variable as a keyword arg: x. From version 0.12, the only valid positional argument will be `data`, and passing other arguments without an explicit keyword will result in an error or misinterpretation.\n",
            "  FutureWarning\n",
            "/usr/local/lib/python3.7/dist-packages/seaborn/_decorators.py:43: FutureWarning: Pass the following variable as a keyword arg: x. From version 0.12, the only valid positional argument will be `data`, and passing other arguments without an explicit keyword will result in an error or misinterpretation.\n",
            "  FutureWarning\n",
            "/usr/local/lib/python3.7/dist-packages/seaborn/_decorators.py:43: FutureWarning: Pass the following variable as a keyword arg: x. From version 0.12, the only valid positional argument will be `data`, and passing other arguments without an explicit keyword will result in an error or misinterpretation.\n",
            "  FutureWarning\n",
            "/usr/local/lib/python3.7/dist-packages/seaborn/_decorators.py:43: FutureWarning: Pass the following variable as a keyword arg: x. From version 0.12, the only valid positional argument will be `data`, and passing other arguments without an explicit keyword will result in an error or misinterpretation.\n",
            "  FutureWarning\n"
          ]
        },
        {
          "output_type": "display_data",
          "data": {
            "text/plain": [
              "<Figure size 720x1080 with 7 Axes>"
            ],
            "image/png": "[encoded data removed]"
          },
          "metadata": {
            "needs_background": "light"
          }
        }
      ]
    },
    {
      "cell_type": "markdown",
      "source": [
        "**Data Preprocessing**"
      ],
      "metadata": {
        "id": "X7WoVkDS2Pkh"
      }
    },
    {
      "cell_type": "code",
      "source": [
        "data.corr()"
      ],
      "metadata": {
        "colab": {
          "base_uri": "https://localhost:8080/",
          "height": 300
        },
        "id": "70YvT6Pr2UOj",
        "outputId": "fddaa2d8-fa42-4756-e566-f8f268bf06fc"
      },
      "execution_count": 156,
      "outputs": [
        {
          "output_type": "execute_result",
          "data": {
            "text/plain": [
              "                Sales  CompPrice    Income  Advertising  Population     Price  \\\n",
              "Sales        1.000000   0.064079  0.151951     0.269507    0.050471 -0.444951   \n",
              "CompPrice    0.064079   1.000000 -0.080653    -0.024199   -0.094707  0.584848   \n",
              "Income       0.151951  -0.080653  1.000000     0.058995   -0.007877 -0.056698   \n",
              "Advertising  0.269507  -0.024199  0.058995     1.000000    0.265652  0.044537   \n",
              "Population   0.050471  -0.094707 -0.007877     0.265652    1.000000 -0.012144   \n",
              "Price       -0.444951   0.584848 -0.056698     0.044537   -0.012144  1.000000   \n",
              "Age         -0.231815  -0.100239 -0.004670    -0.004557   -0.042663 -0.102177   \n",
              "Education   -0.051955   0.025197 -0.056855    -0.033594   -0.106378  0.011747   \n",
              "\n",
              "                  Age  Education  \n",
              "Sales       -0.231815  -0.051955  \n",
              "CompPrice   -0.100239   0.025197  \n",
              "Income      -0.004670  -0.056855  \n",
              "Advertising -0.004557  -0.033594  \n",
              "Population  -0.042663  -0.106378  \n",
              "Price       -0.102177   0.011747  \n",
              "Age          1.000000   0.006488  \n",
              "Education    0.006488   1.000000  "
            ],
            "text/html": [
              "\n",
              "  <div id=\"df-a5dbc4c1-7b8c-47b2-9b90-07135b3ab2fc\">\n",
              "    <div class=\"colab-df-container\">\n",
              "      <div>\n",
              "<style scoped>\n",
              "    .dataframe tbody tr th:only-of-type {\n",
              "        vertical-align: middle;\n",
              "    }\n",
              "\n",
              "    .dataframe tbody tr th {\n",
              "        vertical-align: top;\n",
              "    }\n",
              "\n",
              "    .dataframe thead th {\n",
              "        text-align: right;\n",
              "    }\n",
              "</style>\n",
              "<table border=\"1\" class=\"dataframe\">\n",
              "  <thead>\n",
              "    <tr style=\"text-align: right;\">\n",
              "      <th></th>\n",
              "      <th>Sales</th>\n",
              "      <th>CompPrice</th>\n",
              "      <th>Income</th>\n",
              "      <th>Advertising</th>\n",
              "      <th>Population</th>\n",
              "      <th>Price</th>\n",
              "      <th>Age</th>\n",
              "      <th>Education</th>\n",
              "    </tr>\n",
              "  </thead>\n",
              "  <tbody>\n",
              "    <tr>\n",
              "      <th>Sales</th>\n",
              "      <td>1.000000</td>\n",
              "      <td>0.064079</td>\n",
              "      <td>0.151951</td>\n",
              "      <td>0.269507</td>\n",
              "      <td>0.050471</td>\n",
              "      <td>-0.444951</td>\n",
              "      <td>-0.231815</td>\n",
              "      <td>-0.051955</td>\n",
              "    </tr>\n",
              "    <tr>\n",
              "      <th>CompPrice</th>\n",
              "      <td>0.064079</td>\n",
              "      <td>1.000000</td>\n",
              "      <td>-0.080653</td>\n",
              "      <td>-0.024199</td>\n",
              "      <td>-0.094707</td>\n",
              "      <td>0.584848</td>\n",
              "      <td>-0.100239</td>\n",
              "      <td>0.025197</td>\n",
              "    </tr>\n",
              "    <tr>\n",
              "      <th>Income</th>\n",
              "      <td>0.151951</td>\n",
              "      <td>-0.080653</td>\n",
              "      <td>1.000000</td>\n",
              "      <td>0.058995</td>\n",
              "      <td>-0.007877</td>\n",
              "      <td>-0.056698</td>\n",
              "      <td>-0.004670</td>\n",
              "      <td>-0.056855</td>\n",
              "    </tr>\n",
              "    <tr>\n",
              "      <th>Advertising</th>\n",
              "      <td>0.269507</td>\n",
              "      <td>-0.024199</td>\n",
              "      <td>0.058995</td>\n",
              "      <td>1.000000</td>\n",
              "      <td>0.265652</td>\n",
              "      <td>0.044537</td>\n",
              "      <td>-0.004557</td>\n",
              "      <td>-0.033594</td>\n",
              "    </tr>\n",
              "    <tr>\n",
              "      <th>Population</th>\n",
              "      <td>0.050471</td>\n",
              "      <td>-0.094707</td>\n",
              "      <td>-0.007877</td>\n",
              "      <td>0.265652</td>\n",
              "      <td>1.000000</td>\n",
              "      <td>-0.012144</td>\n",
              "      <td>-0.042663</td>\n",
              "      <td>-0.106378</td>\n",
              "    </tr>\n",
              "    <tr>\n",
              "      <th>Price</th>\n",
              "      <td>-0.444951</td>\n",
              "      <td>0.584848</td>\n",
              "      <td>-0.056698</td>\n",
              "      <td>0.044537</td>\n",
              "      <td>-0.012144</td>\n",
              "      <td>1.000000</td>\n",
              "      <td>-0.102177</td>\n",
              "      <td>0.011747</td>\n",
              "    </tr>\n",
              "    <tr>\n",
              "      <th>Age</th>\n",
              "      <td>-0.231815</td>\n",
              "      <td>-0.100239</td>\n",
              "      <td>-0.004670</td>\n",
              "      <td>-0.004557</td>\n",
              "      <td>-0.042663</td>\n",
              "      <td>-0.102177</td>\n",
              "      <td>1.000000</td>\n",
              "      <td>0.006488</td>\n",
              "    </tr>\n",
              "    <tr>\n",
              "      <th>Education</th>\n",
              "      <td>-0.051955</td>\n",
              "      <td>0.025197</td>\n",
              "      <td>-0.056855</td>\n",
              "      <td>-0.033594</td>\n",
              "      <td>-0.106378</td>\n",
              "      <td>0.011747</td>\n",
              "      <td>0.006488</td>\n",
              "      <td>1.000000</td>\n",
              "    </tr>\n",
              "  </tbody>\n",
              "</table>\n",
              "</div>\n",
              "      <button class=\"colab-df-convert\" onclick=\"convertToInteractive('df-a5dbc4c1-7b8c-47b2-9b90-07135b3ab2fc')\"\n",
              "              title=\"Convert this dataframe to an interactive table.\"\n",
              "              style=\"display:none;\">\n",
              "        \n",
              "  <svg xmlns=\"http://www.w3.org/2000/svg\" height=\"24px\"viewBox=\"0 0 24 24\"\n",
              "       width=\"24px\">\n",
              "    <path d=\"M0 0h24v24H0V0z\" fill=\"none\"/>\n",
              "    <path d=\"M18.56 5.44l.94 2.06.94-2.06 2.06-.94-2.06-.94-.94-2.06-.94 2.06-2.06.94zm-11 1L8.5 8.5l.94-2.06 2.06-.94-2.06-.94L8.5 2.5l-.94 2.06-2.06.94zm10 10l.94 2.06.94-2.06 2.06-.94-2.06-.94-.94-2.06-.94 2.06-2.06.94z\"/><path d=\"M17.41 7.96l-1.37-1.37c-.4-.4-.92-.59-1.43-.59-.52 0-1.04.2-1.43.59L10.3 9.45l-7.72 7.72c-.78.78-.78 2.05 0 2.83L4 21.41c.39.39.9.59 1.41.59.51 0 1.02-.2 1.41-.59l7.78-7.78 2.81-2.81c.8-.78.8-2.07 0-2.86zM5.41 20L4 18.59l7.72-7.72 1.47 1.35L5.41 20z\"/>\n",
              "  </svg>\n",
              "      </button>\n",
              "      \n",
              "  <style>\n",
              "    .colab-df-container {\n",
              "      display:flex;\n",
              "      flex-wrap:wrap;\n",
              "      gap: 12px;\n",
              "    }\n",
              "\n",
              "    .colab-df-convert {\n",
              "      background-color: #E8F0FE;\n",
              "      border: none;\n",
              "      border-radius: 50%;\n",
              "      cursor: pointer;\n",
              "      display: none;\n",
              "      fill: #1967D2;\n",
              "      height: 32px;\n",
              "      padding: 0 0 0 0;\n",
              "      width: 32px;\n",
              "    }\n",
              "\n",
              "    .colab-df-convert:hover {\n",
              "      background-color: #E2EBFA;\n",
              "      box-shadow: 0px 1px 2px rgba(60, 64, 67, 0.3), 0px 1px 3px 1px rgba(60, 64, 67, 0.15);\n",
              "      fill: #174EA6;\n",
              "    }\n",
              "\n",
              "    [theme=dark] .colab-df-convert {\n",
              "      background-color: #3B4455;\n",
              "      fill: #D2E3FC;\n",
              "    }\n",
              "\n",
              "    [theme=dark] .colab-df-convert:hover {\n",
              "      background-color: #434B5C;\n",
              "      box-shadow: 0px 1px 3px 1px rgba(0, 0, 0, 0.15);\n",
              "      filter: drop-shadow(0px 1px 2px rgba(0, 0, 0, 0.3));\n",
              "      fill: #FFFFFF;\n",
              "    }\n",
              "  </style>\n",
              "\n",
              "      <script>\n",
              "        const buttonEl =\n",
              "          document.querySelector('#df-a5dbc4c1-7b8c-47b2-9b90-07135b3ab2fc button.colab-df-convert');\n",
              "        buttonEl.style.display =\n",
              "          google.colab.kernel.accessAllowed ? 'block' : 'none';\n",
              "\n",
              "        async function convertToInteractive(key) {\n",
              "          const element = document.querySelector('#df-a5dbc4c1-7b8c-47b2-9b90-07135b3ab2fc');\n",
              "          const dataTable =\n",
              "            await google.colab.kernel.invokeFunction('convertToInteractive',\n",
              "                                                     [key], {});\n",
              "          if (!dataTable) return;\n",
              "\n",
              "          const docLinkHtml = 'Like what you see? Visit the ' +\n",
              "            '<a target=\"_blank\" href=https://colab.research.google.com/notebooks/data_table.ipynb>data table notebook</a>'\n",
              "            + ' to learn more about interactive tables.';\n",
              "          element.innerHTML = '';\n",
              "          dataTable['output_type'] = 'display_data';\n",
              "          await google.colab.output.renderOutput(dataTable, element);\n",
              "          const docLink = document.createElement('div');\n",
              "          docLink.innerHTML = docLinkHtml;\n",
              "          element.appendChild(docLink);\n",
              "        }\n",
              "      </script>\n",
              "    </div>\n",
              "  </div>\n",
              "  "
            ]
          },
          "metadata": {},
          "execution_count": 156
        }
      ]
    },
    {
      "cell_type": "code",
      "source": [
        "fig=plt.figure(figsize=(10,10))\n",
        "sns.heatmap(data.corr(),annot=True)"
      ],
      "metadata": {
        "colab": {
          "base_uri": "https://localhost:8080/",
          "height": 614
        },
        "id": "DgPHbXq82aAI",
        "outputId": "a792843d-4c9d-44a0-a278-d79fbb0022ae"
      },
      "execution_count": 157,
      "outputs": [
        {
          "output_type": "execute_result",
          "data": {
            "text/plain": [
              "<matplotlib.axes._subplots.AxesSubplot at 0x7f73ef61fdd0>"
            ]
          },
          "metadata": {},
          "execution_count": 157
        },
        {
          "output_type": "display_data",
          "data": {
            "text/plain": [
              "<Figure size 720x720 with 2 Axes>"
            ],
            "image/png": "[encoded data removed]"
          },
          "metadata": {
            "needs_background": "light"
          }
        }
      ]
    },
    {
      "cell_type": "markdown",
      "source": [
        "This give us the idea of the relationship of different features"
      ],
      "metadata": {
        "id": "5-WokfXc2qUp"
      }
    },
    {
      "cell_type": "markdown",
      "source": [
        "Converting the sales into required format(i.e: less than 5 will be termed as low,between 5 and 10 will be medium and greater than 10 will be termed as high"
      ],
      "metadata": {
        "id": "aTlpC_5W22aa"
      }
    },
    {
      "cell_type": "code",
      "source": [
        "#function to convert sales based on the above mentioned cut off\n",
        "def sal_change(X):\n",
        "  a=0\n",
        "  if X<5:\n",
        "    a=1\n",
        "  elif X<10:\n",
        "    a=2\n",
        "  else:\n",
        "    a=3\n",
        "  return a"
      ],
      "metadata": {
        "id": "06Ujwto83GsI"
      },
      "execution_count": 158,
      "outputs": []
    },
    {
      "cell_type": "code",
      "source": [
        "#Function calling\n",
        "data['sales']=data['Sales'].map(sal_change)"
      ],
      "metadata": {
        "id": "IzNz7Iso3pnl"
      },
      "execution_count": 159,
      "outputs": []
    },
    {
      "cell_type": "code",
      "source": [
        "data.head()"
      ],
      "metadata": {
        "colab": {
          "base_uri": "https://localhost:8080/",
          "height": 206
        },
        "id": "itnxeXB04KZP",
        "outputId": "958ba26d-282a-49ef-d386-891dc136cc6a"
      },
      "execution_count": 160,
      "outputs": [
        {
          "output_type": "execute_result",
          "data": {
            "text/plain": [
              "   Sales  CompPrice  Income  Advertising  Population  Price ShelveLoc  Age  \\\n",
              "0   9.50        138      73           11         276    120       Bad   42   \n",
              "1  11.22        111      48           16         260     83      Good   65   \n",
              "2  10.06        113      35           10         269     80    Medium   59   \n",
              "3   7.40        117     100            4         466     97    Medium   55   \n",
              "4   4.15        141      64            3         340    128       Bad   38   \n",
              "\n",
              "   Education Urban   US  sales  \n",
              "0         17   Yes  Yes      2  \n",
              "1         10   Yes  Yes      3  \n",
              "2         12   Yes  Yes      3  \n",
              "3         14   Yes  Yes      2  \n",
              "4         13   Yes   No      1  "
            ],
            "text/html": [
              "\n",
              "  <div id=\"df-42eb658e-533d-4949-b4fd-66159e81b585\">\n",
              "    <div class=\"colab-df-container\">\n",
              "      <div>\n",
              "<style scoped>\n",
              "    .dataframe tbody tr th:only-of-type {\n",
              "        vertical-align: middle;\n",
              "    }\n",
              "\n",
              "    .dataframe tbody tr th {\n",
              "        vertical-align: top;\n",
              "    }\n",
              "\n",
              "    .dataframe thead th {\n",
              "        text-align: right;\n",
              "    }\n",
              "</style>\n",
              "<table border=\"1\" class=\"dataframe\">\n",
              "  <thead>\n",
              "    <tr style=\"text-align: right;\">\n",
              "      <th></th>\n",
              "      <th>Sales</th>\n",
              "      <th>CompPrice</th>\n",
              "      <th>Income</th>\n",
              "      <th>Advertising</th>\n",
              "      <th>Population</th>\n",
              "      <th>Price</th>\n",
              "      <th>ShelveLoc</th>\n",
              "      <th>Age</th>\n",
              "      <th>Education</th>\n",
              "      <th>Urban</th>\n",
              "      <th>US</th>\n",
              "      <th>sales</th>\n",
              "    </tr>\n",
              "  </thead>\n",
              "  <tbody>\n",
              "    <tr>\n",
              "      <th>0</th>\n",
              "      <td>9.50</td>\n",
              "      <td>138</td>\n",
              "      <td>73</td>\n",
              "      <td>11</td>\n",
              "      <td>276</td>\n",
              "      <td>120</td>\n",
              "      <td>Bad</td>\n",
              "      <td>42</td>\n",
              "      <td>17</td>\n",
              "      <td>Yes</td>\n",
              "      <td>Yes</td>\n",
              "      <td>2</td>\n",
              "    </tr>\n",
              "    <tr>\n",
              "      <th>1</th>\n",
              "      <td>11.22</td>\n",
              "      <td>111</td>\n",
              "      <td>48</td>\n",
              "      <td>16</td>\n",
              "      <td>260</td>\n",
              "      <td>83</td>\n",
              "      <td>Good</td>\n",
              "      <td>65</td>\n",
              "      <td>10</td>\n",
              "      <td>Yes</td>\n",
              "      <td>Yes</td>\n",
              "      <td>3</td>\n",
              "    </tr>\n",
              "    <tr>\n",
              "      <th>2</th>\n",
              "      <td>10.06</td>\n",
              "      <td>113</td>\n",
              "      <td>35</td>\n",
              "      <td>10</td>\n",
              "      <td>269</td>\n",
              "      <td>80</td>\n",
              "      <td>Medium</td>\n",
              "      <td>59</td>\n",
              "      <td>12</td>\n",
              "      <td>Yes</td>\n",
              "      <td>Yes</td>\n",
              "      <td>3</td>\n",
              "    </tr>\n",
              "    <tr>\n",
              "      <th>3</th>\n",
              "      <td>7.40</td>\n",
              "      <td>117</td>\n",
              "      <td>100</td>\n",
              "      <td>4</td>\n",
              "      <td>466</td>\n",
              "      <td>97</td>\n",
              "      <td>Medium</td>\n",
              "      <td>55</td>\n",
              "      <td>14</td>\n",
              "      <td>Yes</td>\n",
              "      <td>Yes</td>\n",
              "      <td>2</td>\n",
              "    </tr>\n",
              "    <tr>\n",
              "      <th>4</th>\n",
              "      <td>4.15</td>\n",
              "      <td>141</td>\n",
              "      <td>64</td>\n",
              "      <td>3</td>\n",
              "      <td>340</td>\n",
              "      <td>128</td>\n",
              "      <td>Bad</td>\n",
              "      <td>38</td>\n",
              "      <td>13</td>\n",
              "      <td>Yes</td>\n",
              "      <td>No</td>\n",
              "      <td>1</td>\n",
              "    </tr>\n",
              "  </tbody>\n",
              "</table>\n",
              "</div>\n",
              "      <button class=\"colab-df-convert\" onclick=\"convertToInteractive('df-42eb658e-533d-4949-b4fd-66159e81b585')\"\n",
              "              title=\"Convert this dataframe to an interactive table.\"\n",
              "              style=\"display:none;\">\n",
              "        \n",
              "  <svg xmlns=\"http://www.w3.org/2000/svg\" height=\"24px\"viewBox=\"0 0 24 24\"\n",
              "       width=\"24px\">\n",
              "    <path d=\"M0 0h24v24H0V0z\" fill=\"none\"/>\n",
              "    <path d=\"M18.56 5.44l.94 2.06.94-2.06 2.06-.94-2.06-.94-.94-2.06-.94 2.06-2.06.94zm-11 1L8.5 8.5l.94-2.06 2.06-.94-2.06-.94L8.5 2.5l-.94 2.06-2.06.94zm10 10l.94 2.06.94-2.06 2.06-.94-2.06-.94-.94-2.06-.94 2.06-2.06.94z\"/><path d=\"M17.41 7.96l-1.37-1.37c-.4-.4-.92-.59-1.43-.59-.52 0-1.04.2-1.43.59L10.3 9.45l-7.72 7.72c-.78.78-.78 2.05 0 2.83L4 21.41c.39.39.9.59 1.41.59.51 0 1.02-.2 1.41-.59l7.78-7.78 2.81-2.81c.8-.78.8-2.07 0-2.86zM5.41 20L4 18.59l7.72-7.72 1.47 1.35L5.41 20z\"/>\n",
              "  </svg>\n",
              "      </button>\n",
              "      \n",
              "  <style>\n",
              "    .colab-df-container {\n",
              "      display:flex;\n",
              "      flex-wrap:wrap;\n",
              "      gap: 12px;\n",
              "    }\n",
              "\n",
              "    .colab-df-convert {\n",
              "      background-color: #E8F0FE;\n",
              "      border: none;\n",
              "      border-radius: 50%;\n",
              "      cursor: pointer;\n",
              "      display: none;\n",
              "      fill: #1967D2;\n",
              "      height: 32px;\n",
              "      padding: 0 0 0 0;\n",
              "      width: 32px;\n",
              "    }\n",
              "\n",
              "    .colab-df-convert:hover {\n",
              "      background-color: #E2EBFA;\n",
              "      box-shadow: 0px 1px 2px rgba(60, 64, 67, 0.3), 0px 1px 3px 1px rgba(60, 64, 67, 0.15);\n",
              "      fill: #174EA6;\n",
              "    }\n",
              "\n",
              "    [theme=dark] .colab-df-convert {\n",
              "      background-color: #3B4455;\n",
              "      fill: #D2E3FC;\n",
              "    }\n",
              "\n",
              "    [theme=dark] .colab-df-convert:hover {\n",
              "      background-color: #434B5C;\n",
              "      box-shadow: 0px 1px 3px 1px rgba(0, 0, 0, 0.15);\n",
              "      filter: drop-shadow(0px 1px 2px rgba(0, 0, 0, 0.3));\n",
              "      fill: #FFFFFF;\n",
              "    }\n",
              "  </style>\n",
              "\n",
              "      <script>\n",
              "        const buttonEl =\n",
              "          document.querySelector('#df-42eb658e-533d-4949-b4fd-66159e81b585 button.colab-df-convert');\n",
              "        buttonEl.style.display =\n",
              "          google.colab.kernel.accessAllowed ? 'block' : 'none';\n",
              "\n",
              "        async function convertToInteractive(key) {\n",
              "          const element = document.querySelector('#df-42eb658e-533d-4949-b4fd-66159e81b585');\n",
              "          const dataTable =\n",
              "            await google.colab.kernel.invokeFunction('convertToInteractive',\n",
              "                                                     [key], {});\n",
              "          if (!dataTable) return;\n",
              "\n",
              "          const docLinkHtml = 'Like what you see? Visit the ' +\n",
              "            '<a target=\"_blank\" href=https://colab.research.google.com/notebooks/data_table.ipynb>data table notebook</a>'\n",
              "            + ' to learn more about interactive tables.';\n",
              "          element.innerHTML = '';\n",
              "          dataTable['output_type'] = 'display_data';\n",
              "          await google.colab.output.renderOutput(dataTable, element);\n",
              "          const docLink = document.createElement('div');\n",
              "          docLink.innerHTML = docLinkHtml;\n",
              "          element.appendChild(docLink);\n",
              "        }\n",
              "      </script>\n",
              "    </div>\n",
              "  </div>\n",
              "  "
            ]
          },
          "metadata": {},
          "execution_count": 160
        }
      ]
    },
    {
      "cell_type": "markdown",
      "source": [
        "Now a new feature is created based on the sales.This feature will be our target variable."
      ],
      "metadata": {
        "id": "Cv27b2rm4UPa"
      }
    },
    {
      "cell_type": "markdown",
      "source": [
        "let us now drop the numerical sales values"
      ],
      "metadata": {
        "id": "HeThqqHK4cn8"
      }
    },
    {
      "cell_type": "code",
      "source": [
        "data.drop('Sales',inplace=True,axis=1)"
      ],
      "metadata": {
        "id": "BOUrB1-A4Z3F"
      },
      "execution_count": 161,
      "outputs": []
    },
    {
      "cell_type": "code",
      "source": [
        "data.head()"
      ],
      "metadata": {
        "colab": {
          "base_uri": "https://localhost:8080/",
          "height": 206
        },
        "id": "W18Yj2Fz5Sua",
        "outputId": "52472d6c-c0e2-4353-fd1d-a4f5c686c145"
      },
      "execution_count": 162,
      "outputs": [
        {
          "output_type": "execute_result",
          "data": {
            "text/plain": [
              "   CompPrice  Income  Advertising  Population  Price ShelveLoc  Age  \\\n",
              "0        138      73           11         276    120       Bad   42   \n",
              "1        111      48           16         260     83      Good   65   \n",
              "2        113      35           10         269     80    Medium   59   \n",
              "3        117     100            4         466     97    Medium   55   \n",
              "4        141      64            3         340    128       Bad   38   \n",
              "\n",
              "   Education Urban   US  sales  \n",
              "0         17   Yes  Yes      2  \n",
              "1         10   Yes  Yes      3  \n",
              "2         12   Yes  Yes      3  \n",
              "3         14   Yes  Yes      2  \n",
              "4         13   Yes   No      1  "
            ],
            "text/html": [
              "\n",
              "  <div id=\"df-7e74fe05-1253-4e57-940c-deaa0bcf5085\">\n",
              "    <div class=\"colab-df-container\">\n",
              "      <div>\n",
              "<style scoped>\n",
              "    .dataframe tbody tr th:only-of-type {\n",
              "        vertical-align: middle;\n",
              "    }\n",
              "\n",
              "    .dataframe tbody tr th {\n",
              "        vertical-align: top;\n",
              "    }\n",
              "\n",
              "    .dataframe thead th {\n",
              "        text-align: right;\n",
              "    }\n",
              "</style>\n",
              "<table border=\"1\" class=\"dataframe\">\n",
              "  <thead>\n",
              "    <tr style=\"text-align: right;\">\n",
              "      <th></th>\n",
              "      <th>CompPrice</th>\n",
              "      <th>Income</th>\n",
              "      <th>Advertising</th>\n",
              "      <th>Population</th>\n",
              "      <th>Price</th>\n",
              "      <th>ShelveLoc</th>\n",
              "      <th>Age</th>\n",
              "      <th>Education</th>\n",
              "      <th>Urban</th>\n",
              "      <th>US</th>\n",
              "      <th>sales</th>\n",
              "    </tr>\n",
              "  </thead>\n",
              "  <tbody>\n",
              "    <tr>\n",
              "      <th>0</th>\n",
              "      <td>138</td>\n",
              "      <td>73</td>\n",
              "      <td>11</td>\n",
              "      <td>276</td>\n",
              "      <td>120</td>\n",
              "      <td>Bad</td>\n",
              "      <td>42</td>\n",
              "      <td>17</td>\n",
              "      <td>Yes</td>\n",
              "      <td>Yes</td>\n",
              "      <td>2</td>\n",
              "    </tr>\n",
              "    <tr>\n",
              "      <th>1</th>\n",
              "      <td>111</td>\n",
              "      <td>48</td>\n",
              "      <td>16</td>\n",
              "      <td>260</td>\n",
              "      <td>83</td>\n",
              "      <td>Good</td>\n",
              "      <td>65</td>\n",
              "      <td>10</td>\n",
              "      <td>Yes</td>\n",
              "      <td>Yes</td>\n",
              "      <td>3</td>\n",
              "    </tr>\n",
              "    <tr>\n",
              "      <th>2</th>\n",
              "      <td>113</td>\n",
              "      <td>35</td>\n",
              "      <td>10</td>\n",
              "      <td>269</td>\n",
              "      <td>80</td>\n",
              "      <td>Medium</td>\n",
              "      <td>59</td>\n",
              "      <td>12</td>\n",
              "      <td>Yes</td>\n",
              "      <td>Yes</td>\n",
              "      <td>3</td>\n",
              "    </tr>\n",
              "    <tr>\n",
              "      <th>3</th>\n",
              "      <td>117</td>\n",
              "      <td>100</td>\n",
              "      <td>4</td>\n",
              "      <td>466</td>\n",
              "      <td>97</td>\n",
              "      <td>Medium</td>\n",
              "      <td>55</td>\n",
              "      <td>14</td>\n",
              "      <td>Yes</td>\n",
              "      <td>Yes</td>\n",
              "      <td>2</td>\n",
              "    </tr>\n",
              "    <tr>\n",
              "      <th>4</th>\n",
              "      <td>141</td>\n",
              "      <td>64</td>\n",
              "      <td>3</td>\n",
              "      <td>340</td>\n",
              "      <td>128</td>\n",
              "      <td>Bad</td>\n",
              "      <td>38</td>\n",
              "      <td>13</td>\n",
              "      <td>Yes</td>\n",
              "      <td>No</td>\n",
              "      <td>1</td>\n",
              "    </tr>\n",
              "  </tbody>\n",
              "</table>\n",
              "</div>\n",
              "      <button class=\"colab-df-convert\" onclick=\"convertToInteractive('df-7e74fe05-1253-4e57-940c-deaa0bcf5085')\"\n",
              "              title=\"Convert this dataframe to an interactive table.\"\n",
              "              style=\"display:none;\">\n",
              "        \n",
              "  <svg xmlns=\"http://www.w3.org/2000/svg\" height=\"24px\"viewBox=\"0 0 24 24\"\n",
              "       width=\"24px\">\n",
              "    <path d=\"M0 0h24v24H0V0z\" fill=\"none\"/>\n",
              "    <path d=\"M18.56 5.44l.94 2.06.94-2.06 2.06-.94-2.06-.94-.94-2.06-.94 2.06-2.06.94zm-11 1L8.5 8.5l.94-2.06 2.06-.94-2.06-.94L8.5 2.5l-.94 2.06-2.06.94zm10 10l.94 2.06.94-2.06 2.06-.94-2.06-.94-.94-2.06-.94 2.06-2.06.94z\"/><path d=\"M17.41 7.96l-1.37-1.37c-.4-.4-.92-.59-1.43-.59-.52 0-1.04.2-1.43.59L10.3 9.45l-7.72 7.72c-.78.78-.78 2.05 0 2.83L4 21.41c.39.39.9.59 1.41.59.51 0 1.02-.2 1.41-.59l7.78-7.78 2.81-2.81c.8-.78.8-2.07 0-2.86zM5.41 20L4 18.59l7.72-7.72 1.47 1.35L5.41 20z\"/>\n",
              "  </svg>\n",
              "      </button>\n",
              "      \n",
              "  <style>\n",
              "    .colab-df-container {\n",
              "      display:flex;\n",
              "      flex-wrap:wrap;\n",
              "      gap: 12px;\n",
              "    }\n",
              "\n",
              "    .colab-df-convert {\n",
              "      background-color: #E8F0FE;\n",
              "      border: none;\n",
              "      border-radius: 50%;\n",
              "      cursor: pointer;\n",
              "      display: none;\n",
              "      fill: #1967D2;\n",
              "      height: 32px;\n",
              "      padding: 0 0 0 0;\n",
              "      width: 32px;\n",
              "    }\n",
              "\n",
              "    .colab-df-convert:hover {\n",
              "      background-color: #E2EBFA;\n",
              "      box-shadow: 0px 1px 2px rgba(60, 64, 67, 0.3), 0px 1px 3px 1px rgba(60, 64, 67, 0.15);\n",
              "      fill: #174EA6;\n",
              "    }\n",
              "\n",
              "    [theme=dark] .colab-df-convert {\n",
              "      background-color: #3B4455;\n",
              "      fill: #D2E3FC;\n",
              "    }\n",
              "\n",
              "    [theme=dark] .colab-df-convert:hover {\n",
              "      background-color: #434B5C;\n",
              "      box-shadow: 0px 1px 3px 1px rgba(0, 0, 0, 0.15);\n",
              "      filter: drop-shadow(0px 1px 2px rgba(0, 0, 0, 0.3));\n",
              "      fill: #FFFFFF;\n",
              "    }\n",
              "  </style>\n",
              "\n",
              "      <script>\n",
              "        const buttonEl =\n",
              "          document.querySelector('#df-7e74fe05-1253-4e57-940c-deaa0bcf5085 button.colab-df-convert');\n",
              "        buttonEl.style.display =\n",
              "          google.colab.kernel.accessAllowed ? 'block' : 'none';\n",
              "\n",
              "        async function convertToInteractive(key) {\n",
              "          const element = document.querySelector('#df-7e74fe05-1253-4e57-940c-deaa0bcf5085');\n",
              "          const dataTable =\n",
              "            await google.colab.kernel.invokeFunction('convertToInteractive',\n",
              "                                                     [key], {});\n",
              "          if (!dataTable) return;\n",
              "\n",
              "          const docLinkHtml = 'Like what you see? Visit the ' +\n",
              "            '<a target=\"_blank\" href=https://colab.research.google.com/notebooks/data_table.ipynb>data table notebook</a>'\n",
              "            + ' to learn more about interactive tables.';\n",
              "          element.innerHTML = '';\n",
              "          dataTable['output_type'] = 'display_data';\n",
              "          await google.colab.output.renderOutput(dataTable, element);\n",
              "          const docLink = document.createElement('div');\n",
              "          docLink.innerHTML = docLinkHtml;\n",
              "          element.appendChild(docLink);\n",
              "        }\n",
              "      </script>\n",
              "    </div>\n",
              "  </div>\n",
              "  "
            ]
          },
          "metadata": {},
          "execution_count": 162
        }
      ]
    },
    {
      "cell_type": "code",
      "source": [
        "data.describe()"
      ],
      "metadata": {
        "colab": {
          "base_uri": "https://localhost:8080/",
          "height": 300
        },
        "id": "95b1HLr45alO",
        "outputId": "f99365f1-268a-414a-86ee-fb4569f44e24"
      },
      "execution_count": 163,
      "outputs": [
        {
          "output_type": "execute_result",
          "data": {
            "text/plain": [
              "        CompPrice      Income  Advertising  Population       Price  \\\n",
              "count  400.000000  400.000000   400.000000  400.000000  400.000000   \n",
              "mean   124.975000   68.657500     6.635000  264.840000  115.795000   \n",
              "std     15.334512   27.986037     6.650364  147.376436   23.676664   \n",
              "min     77.000000   21.000000     0.000000   10.000000   24.000000   \n",
              "25%    115.000000   42.750000     0.000000  139.000000  100.000000   \n",
              "50%    125.000000   69.000000     5.000000  272.000000  117.000000   \n",
              "75%    135.000000   91.000000    12.000000  398.500000  131.000000   \n",
              "max    175.000000  120.000000    29.000000  509.000000  191.000000   \n",
              "\n",
              "              Age   Education       sales  \n",
              "count  400.000000  400.000000  400.000000  \n",
              "mean    53.322500   13.900000    2.005000  \n",
              "std     16.200297    2.620528    0.625262  \n",
              "min     25.000000   10.000000    1.000000  \n",
              "25%     39.750000   12.000000    2.000000  \n",
              "50%     54.500000   14.000000    2.000000  \n",
              "75%     66.000000   16.000000    2.000000  \n",
              "max     80.000000   18.000000    3.000000  "
            ],
            "text/html": [
              "\n",
              "  <div id=\"df-c6bb819f-6c51-4d5e-a72d-7feeec8aeef7\">\n",
              "    <div class=\"colab-df-container\">\n",
              "      <div>\n",
              "<style scoped>\n",
              "    .dataframe tbody tr th:only-of-type {\n",
              "        vertical-align: middle;\n",
              "    }\n",
              "\n",
              "    .dataframe tbody tr th {\n",
              "        vertical-align: top;\n",
              "    }\n",
              "\n",
              "    .dataframe thead th {\n",
              "        text-align: right;\n",
              "    }\n",
              "</style>\n",
              "<table border=\"1\" class=\"dataframe\">\n",
              "  <thead>\n",
              "    <tr style=\"text-align: right;\">\n",
              "      <th></th>\n",
              "      <th>CompPrice</th>\n",
              "      <th>Income</th>\n",
              "      <th>Advertising</th>\n",
              "      <th>Population</th>\n",
              "      <th>Price</th>\n",
              "      <th>Age</th>\n",
              "      <th>Education</th>\n",
              "      <th>sales</th>\n",
              "    </tr>\n",
              "  </thead>\n",
              "  <tbody>\n",
              "    <tr>\n",
              "      <th>count</th>\n",
              "      <td>400.000000</td>\n",
              "      <td>400.000000</td>\n",
              "      <td>400.000000</td>\n",
              "      <td>400.000000</td>\n",
              "      <td>400.000000</td>\n",
              "      <td>400.000000</td>\n",
              "      <td>400.000000</td>\n",
              "      <td>400.000000</td>\n",
              "    </tr>\n",
              "    <tr>\n",
              "      <th>mean</th>\n",
              "      <td>124.975000</td>\n",
              "      <td>68.657500</td>\n",
              "      <td>6.635000</td>\n",
              "      <td>264.840000</td>\n",
              "      <td>115.795000</td>\n",
              "      <td>53.322500</td>\n",
              "      <td>13.900000</td>\n",
              "      <td>2.005000</td>\n",
              "    </tr>\n",
              "    <tr>\n",
              "      <th>std</th>\n",
              "      <td>15.334512</td>\n",
              "      <td>27.986037</td>\n",
              "      <td>6.650364</td>\n",
              "      <td>147.376436</td>\n",
              "      <td>23.676664</td>\n",
              "      <td>16.200297</td>\n",
              "      <td>2.620528</td>\n",
              "      <td>0.625262</td>\n",
              "    </tr>\n",
              "    <tr>\n",
              "      <th>min</th>\n",
              "      <td>77.000000</td>\n",
              "      <td>21.000000</td>\n",
              "      <td>0.000000</td>\n",
              "      <td>10.000000</td>\n",
              "      <td>24.000000</td>\n",
              "      <td>25.000000</td>\n",
              "      <td>10.000000</td>\n",
              "      <td>1.000000</td>\n",
              "    </tr>\n",
              "    <tr>\n",
              "      <th>25%</th>\n",
              "      <td>115.000000</td>\n",
              "      <td>42.750000</td>\n",
              "      <td>0.000000</td>\n",
              "      <td>139.000000</td>\n",
              "      <td>100.000000</td>\n",
              "      <td>39.750000</td>\n",
              "      <td>12.000000</td>\n",
              "      <td>2.000000</td>\n",
              "    </tr>\n",
              "    <tr>\n",
              "      <th>50%</th>\n",
              "      <td>125.000000</td>\n",
              "      <td>69.000000</td>\n",
              "      <td>5.000000</td>\n",
              "      <td>272.000000</td>\n",
              "      <td>117.000000</td>\n",
              "      <td>54.500000</td>\n",
              "      <td>14.000000</td>\n",
              "      <td>2.000000</td>\n",
              "    </tr>\n",
              "    <tr>\n",
              "      <th>75%</th>\n",
              "      <td>135.000000</td>\n",
              "      <td>91.000000</td>\n",
              "      <td>12.000000</td>\n",
              "      <td>398.500000</td>\n",
              "      <td>131.000000</td>\n",
              "      <td>66.000000</td>\n",
              "      <td>16.000000</td>\n",
              "      <td>2.000000</td>\n",
              "    </tr>\n",
              "    <tr>\n",
              "      <th>max</th>\n",
              "      <td>175.000000</td>\n",
              "      <td>120.000000</td>\n",
              "      <td>29.000000</td>\n",
              "      <td>509.000000</td>\n",
              "      <td>191.000000</td>\n",
              "      <td>80.000000</td>\n",
              "      <td>18.000000</td>\n",
              "      <td>3.000000</td>\n",
              "    </tr>\n",
              "  </tbody>\n",
              "</table>\n",
              "</div>\n",
              "      <button class=\"colab-df-convert\" onclick=\"convertToInteractive('df-c6bb819f-6c51-4d5e-a72d-7feeec8aeef7')\"\n",
              "              title=\"Convert this dataframe to an interactive table.\"\n",
              "              style=\"display:none;\">\n",
              "        \n",
              "  <svg xmlns=\"http://www.w3.org/2000/svg\" height=\"24px\"viewBox=\"0 0 24 24\"\n",
              "       width=\"24px\">\n",
              "    <path d=\"M0 0h24v24H0V0z\" fill=\"none\"/>\n",
              "    <path d=\"M18.56 5.44l.94 2.06.94-2.06 2.06-.94-2.06-.94-.94-2.06-.94 2.06-2.06.94zm-11 1L8.5 8.5l.94-2.06 2.06-.94-2.06-.94L8.5 2.5l-.94 2.06-2.06.94zm10 10l.94 2.06.94-2.06 2.06-.94-2.06-.94-.94-2.06-.94 2.06-2.06.94z\"/><path d=\"M17.41 7.96l-1.37-1.37c-.4-.4-.92-.59-1.43-.59-.52 0-1.04.2-1.43.59L10.3 9.45l-7.72 7.72c-.78.78-.78 2.05 0 2.83L4 21.41c.39.39.9.59 1.41.59.51 0 1.02-.2 1.41-.59l7.78-7.78 2.81-2.81c.8-.78.8-2.07 0-2.86zM5.41 20L4 18.59l7.72-7.72 1.47 1.35L5.41 20z\"/>\n",
              "  </svg>\n",
              "      </button>\n",
              "      \n",
              "  <style>\n",
              "    .colab-df-container {\n",
              "      display:flex;\n",
              "      flex-wrap:wrap;\n",
              "      gap: 12px;\n",
              "    }\n",
              "\n",
              "    .colab-df-convert {\n",
              "      background-color: #E8F0FE;\n",
              "      border: none;\n",
              "      border-radius: 50%;\n",
              "      cursor: pointer;\n",
              "      display: none;\n",
              "      fill: #1967D2;\n",
              "      height: 32px;\n",
              "      padding: 0 0 0 0;\n",
              "      width: 32px;\n",
              "    }\n",
              "\n",
              "    .colab-df-convert:hover {\n",
              "      background-color: #E2EBFA;\n",
              "      box-shadow: 0px 1px 2px rgba(60, 64, 67, 0.3), 0px 1px 3px 1px rgba(60, 64, 67, 0.15);\n",
              "      fill: #174EA6;\n",
              "    }\n",
              "\n",
              "    [theme=dark] .colab-df-convert {\n",
              "      background-color: #3B4455;\n",
              "      fill: #D2E3FC;\n",
              "    }\n",
              "\n",
              "    [theme=dark] .colab-df-convert:hover {\n",
              "      background-color: #434B5C;\n",
              "      box-shadow: 0px 1px 3px 1px rgba(0, 0, 0, 0.15);\n",
              "      filter: drop-shadow(0px 1px 2px rgba(0, 0, 0, 0.3));\n",
              "      fill: #FFFFFF;\n",
              "    }\n",
              "  </style>\n",
              "\n",
              "      <script>\n",
              "        const buttonEl =\n",
              "          document.querySelector('#df-c6bb819f-6c51-4d5e-a72d-7feeec8aeef7 button.colab-df-convert');\n",
              "        buttonEl.style.display =\n",
              "          google.colab.kernel.accessAllowed ? 'block' : 'none';\n",
              "\n",
              "        async function convertToInteractive(key) {\n",
              "          const element = document.querySelector('#df-c6bb819f-6c51-4d5e-a72d-7feeec8aeef7');\n",
              "          const dataTable =\n",
              "            await google.colab.kernel.invokeFunction('convertToInteractive',\n",
              "                                                     [key], {});\n",
              "          if (!dataTable) return;\n",
              "\n",
              "          const docLinkHtml = 'Like what you see? Visit the ' +\n",
              "            '<a target=\"_blank\" href=https://colab.research.google.com/notebooks/data_table.ipynb>data table notebook</a>'\n",
              "            + ' to learn more about interactive tables.';\n",
              "          element.innerHTML = '';\n",
              "          dataTable['output_type'] = 'display_data';\n",
              "          await google.colab.output.renderOutput(dataTable, element);\n",
              "          const docLink = document.createElement('div');\n",
              "          docLink.innerHTML = docLinkHtml;\n",
              "          element.appendChild(docLink);\n",
              "        }\n",
              "      </script>\n",
              "    </div>\n",
              "  </div>\n",
              "  "
            ]
          },
          "metadata": {},
          "execution_count": 163
        }
      ]
    },
    {
      "cell_type": "markdown",
      "source": [
        "Here feature scaling is not required"
      ],
      "metadata": {
        "id": "gTFOmCBR5lmS"
      }
    },
    {
      "cell_type": "markdown",
      "source": [
        "Let us now Convert the remaining categorical variable into numerical or dummies"
      ],
      "metadata": {
        "id": "b49I1ZIl8UGu"
      }
    },
    {
      "cell_type": "code",
      "source": [
        "col_name=['CompPrice', 'Income', 'Advertising', 'Population', 'Price', 'Age', 'Education']\n",
        "fig=plt.figure(figsize=(10,10))\n",
        "for i in range(0,len(col_name)):\n",
        "  plt.subplot(4,2,i+1)\n",
        "  sns.boxplot(x=data['sales'],y=col_name[i],data=data)"
      ],
      "metadata": {
        "colab": {
          "base_uri": "https://localhost:8080/",
          "height": 606
        },
        "id": "MtlkMMOo5oLH",
        "outputId": "5df52b36-bcb3-4474-99c2-887db50a1400"
      },
      "execution_count": 164,
      "outputs": [
        {
          "output_type": "display_data",
          "data": {
            "text/plain": [
              "<Figure size 720x720 with 7 Axes>"
            ],
            "image/png": "[encoded data removed]"
          },
          "metadata": {
            "needs_background": "light"
          }
        }
      ]
    },
    {
      "cell_type": "markdown",
      "source": [
        "This box plot helps distribution of diffent types of sales like high(3),medium(2),low(1)"
      ],
      "metadata": {
        "id": "Ph8oCZfR76k2"
      }
    },
    {
      "cell_type": "code",
      "source": [
        "data.head()"
      ],
      "metadata": {
        "colab": {
          "base_uri": "https://localhost:8080/",
          "height": 206
        },
        "id": "AlOHSYI2_v7H",
        "outputId": "2c9f2dcb-e4be-4e42-d187-e83562c2bdb1"
      },
      "execution_count": 165,
      "outputs": [
        {
          "output_type": "execute_result",
          "data": {
            "text/plain": [
              "   CompPrice  Income  Advertising  Population  Price ShelveLoc  Age  \\\n",
              "0        138      73           11         276    120       Bad   42   \n",
              "1        111      48           16         260     83      Good   65   \n",
              "2        113      35           10         269     80    Medium   59   \n",
              "3        117     100            4         466     97    Medium   55   \n",
              "4        141      64            3         340    128       Bad   38   \n",
              "\n",
              "   Education Urban   US  sales  \n",
              "0         17   Yes  Yes      2  \n",
              "1         10   Yes  Yes      3  \n",
              "2         12   Yes  Yes      3  \n",
              "3         14   Yes  Yes      2  \n",
              "4         13   Yes   No      1  "
            ],
            "text/html": [
              "\n",
              "  <div id=\"df-645142fd-7a70-4843-a1f1-67b468f6e7c2\">\n",
              "    <div class=\"colab-df-container\">\n",
              "      <div>\n",
              "<style scoped>\n",
              "    .dataframe tbody tr th:only-of-type {\n",
              "        vertical-align: middle;\n",
              "    }\n",
              "\n",
              "    .dataframe tbody tr th {\n",
              "        vertical-align: top;\n",
              "    }\n",
              "\n",
              "    .dataframe thead th {\n",
              "        text-align: right;\n",
              "    }\n",
              "</style>\n",
              "<table border=\"1\" class=\"dataframe\">\n",
              "  <thead>\n",
              "    <tr style=\"text-align: right;\">\n",
              "      <th></th>\n",
              "      <th>CompPrice</th>\n",
              "      <th>Income</th>\n",
              "      <th>Advertising</th>\n",
              "      <th>Population</th>\n",
              "      <th>Price</th>\n",
              "      <th>ShelveLoc</th>\n",
              "      <th>Age</th>\n",
              "      <th>Education</th>\n",
              "      <th>Urban</th>\n",
              "      <th>US</th>\n",
              "      <th>sales</th>\n",
              "    </tr>\n",
              "  </thead>\n",
              "  <tbody>\n",
              "    <tr>\n",
              "      <th>0</th>\n",
              "      <td>138</td>\n",
              "      <td>73</td>\n",
              "      <td>11</td>\n",
              "      <td>276</td>\n",
              "      <td>120</td>\n",
              "      <td>Bad</td>\n",
              "      <td>42</td>\n",
              "      <td>17</td>\n",
              "      <td>Yes</td>\n",
              "      <td>Yes</td>\n",
              "      <td>2</td>\n",
              "    </tr>\n",
              "    <tr>\n",
              "      <th>1</th>\n",
              "      <td>111</td>\n",
              "      <td>48</td>\n",
              "      <td>16</td>\n",
              "      <td>260</td>\n",
              "      <td>83</td>\n",
              "      <td>Good</td>\n",
              "      <td>65</td>\n",
              "      <td>10</td>\n",
              "      <td>Yes</td>\n",
              "      <td>Yes</td>\n",
              "      <td>3</td>\n",
              "    </tr>\n",
              "    <tr>\n",
              "      <th>2</th>\n",
              "      <td>113</td>\n",
              "      <td>35</td>\n",
              "      <td>10</td>\n",
              "      <td>269</td>\n",
              "      <td>80</td>\n",
              "      <td>Medium</td>\n",
              "      <td>59</td>\n",
              "      <td>12</td>\n",
              "      <td>Yes</td>\n",
              "      <td>Yes</td>\n",
              "      <td>3</td>\n",
              "    </tr>\n",
              "    <tr>\n",
              "      <th>3</th>\n",
              "      <td>117</td>\n",
              "      <td>100</td>\n",
              "      <td>4</td>\n",
              "      <td>466</td>\n",
              "      <td>97</td>\n",
              "      <td>Medium</td>\n",
              "      <td>55</td>\n",
              "      <td>14</td>\n",
              "      <td>Yes</td>\n",
              "      <td>Yes</td>\n",
              "      <td>2</td>\n",
              "    </tr>\n",
              "    <tr>\n",
              "      <th>4</th>\n",
              "      <td>141</td>\n",
              "      <td>64</td>\n",
              "      <td>3</td>\n",
              "      <td>340</td>\n",
              "      <td>128</td>\n",
              "      <td>Bad</td>\n",
              "      <td>38</td>\n",
              "      <td>13</td>\n",
              "      <td>Yes</td>\n",
              "      <td>No</td>\n",
              "      <td>1</td>\n",
              "    </tr>\n",
              "  </tbody>\n",
              "</table>\n",
              "</div>\n",
              "      <button class=\"colab-df-convert\" onclick=\"convertToInteractive('df-645142fd-7a70-4843-a1f1-67b468f6e7c2')\"\n",
              "              title=\"Convert this dataframe to an interactive table.\"\n",
              "              style=\"display:none;\">\n",
              "        \n",
              "  <svg xmlns=\"http://www.w3.org/2000/svg\" height=\"24px\"viewBox=\"0 0 24 24\"\n",
              "       width=\"24px\">\n",
              "    <path d=\"M0 0h24v24H0V0z\" fill=\"none\"/>\n",
              "    <path d=\"M18.56 5.44l.94 2.06.94-2.06 2.06-.94-2.06-.94-.94-2.06-.94 2.06-2.06.94zm-11 1L8.5 8.5l.94-2.06 2.06-.94-2.06-.94L8.5 2.5l-.94 2.06-2.06.94zm10 10l.94 2.06.94-2.06 2.06-.94-2.06-.94-.94-2.06-.94 2.06-2.06.94z\"/><path d=\"M17.41 7.96l-1.37-1.37c-.4-.4-.92-.59-1.43-.59-.52 0-1.04.2-1.43.59L10.3 9.45l-7.72 7.72c-.78.78-.78 2.05 0 2.83L4 21.41c.39.39.9.59 1.41.59.51 0 1.02-.2 1.41-.59l7.78-7.78 2.81-2.81c.8-.78.8-2.07 0-2.86zM5.41 20L4 18.59l7.72-7.72 1.47 1.35L5.41 20z\"/>\n",
              "  </svg>\n",
              "      </button>\n",
              "      \n",
              "  <style>\n",
              "    .colab-df-container {\n",
              "      display:flex;\n",
              "      flex-wrap:wrap;\n",
              "      gap: 12px;\n",
              "    }\n",
              "\n",
              "    .colab-df-convert {\n",
              "      background-color: #E8F0FE;\n",
              "      border: none;\n",
              "      border-radius: 50%;\n",
              "      cursor: pointer;\n",
              "      display: none;\n",
              "      fill: #1967D2;\n",
              "      height: 32px;\n",
              "      padding: 0 0 0 0;\n",
              "      width: 32px;\n",
              "    }\n",
              "\n",
              "    .colab-df-convert:hover {\n",
              "      background-color: #E2EBFA;\n",
              "      box-shadow: 0px 1px 2px rgba(60, 64, 67, 0.3), 0px 1px 3px 1px rgba(60, 64, 67, 0.15);\n",
              "      fill: #174EA6;\n",
              "    }\n",
              "\n",
              "    [theme=dark] .colab-df-convert {\n",
              "      background-color: #3B4455;\n",
              "      fill: #D2E3FC;\n",
              "    }\n",
              "\n",
              "    [theme=dark] .colab-df-convert:hover {\n",
              "      background-color: #434B5C;\n",
              "      box-shadow: 0px 1px 3px 1px rgba(0, 0, 0, 0.15);\n",
              "      filter: drop-shadow(0px 1px 2px rgba(0, 0, 0, 0.3));\n",
              "      fill: #FFFFFF;\n",
              "    }\n",
              "  </style>\n",
              "\n",
              "      <script>\n",
              "        const buttonEl =\n",
              "          document.querySelector('#df-645142fd-7a70-4843-a1f1-67b468f6e7c2 button.colab-df-convert');\n",
              "        buttonEl.style.display =\n",
              "          google.colab.kernel.accessAllowed ? 'block' : 'none';\n",
              "\n",
              "        async function convertToInteractive(key) {\n",
              "          const element = document.querySelector('#df-645142fd-7a70-4843-a1f1-67b468f6e7c2');\n",
              "          const dataTable =\n",
              "            await google.colab.kernel.invokeFunction('convertToInteractive',\n",
              "                                                     [key], {});\n",
              "          if (!dataTable) return;\n",
              "\n",
              "          const docLinkHtml = 'Like what you see? Visit the ' +\n",
              "            '<a target=\"_blank\" href=https://colab.research.google.com/notebooks/data_table.ipynb>data table notebook</a>'\n",
              "            + ' to learn more about interactive tables.';\n",
              "          element.innerHTML = '';\n",
              "          dataTable['output_type'] = 'display_data';\n",
              "          await google.colab.output.renderOutput(dataTable, element);\n",
              "          const docLink = document.createElement('div');\n",
              "          docLink.innerHTML = docLinkHtml;\n",
              "          element.appendChild(docLink);\n",
              "        }\n",
              "      </script>\n",
              "    </div>\n",
              "  </div>\n",
              "  "
            ]
          },
          "metadata": {},
          "execution_count": 165
        }
      ]
    },
    {
      "cell_type": "markdown",
      "source": [
        "Converting the remaining categorical features into numeric"
      ],
      "metadata": {
        "id": "AWBYo5tG_-rz"
      }
    },
    {
      "cell_type": "code",
      "source": [
        "sales=data['sales']"
      ],
      "metadata": {
        "id": "OXc7ZdObAckB"
      },
      "execution_count": 166,
      "outputs": []
    },
    {
      "cell_type": "code",
      "source": [
        "sales.head()"
      ],
      "metadata": {
        "colab": {
          "base_uri": "https://localhost:8080/"
        },
        "id": "CxKnqaoBAf8W",
        "outputId": "6fac3bd3-6561-4af5-90f9-cc45604cf6ad"
      },
      "execution_count": 167,
      "outputs": [
        {
          "output_type": "execute_result",
          "data": {
            "text/plain": [
              "0    2\n",
              "1    3\n",
              "2    3\n",
              "3    2\n",
              "4    1\n",
              "Name: sales, dtype: int64"
            ]
          },
          "metadata": {},
          "execution_count": 167
        }
      ]
    },
    {
      "cell_type": "code",
      "source": [
        "data.drop('sales',inplace=True,axis=1)"
      ],
      "metadata": {
        "id": "L87nZa14AiVY"
      },
      "execution_count": 168,
      "outputs": []
    },
    {
      "cell_type": "code",
      "source": [
        "data=pd.get_dummies(data,drop_first=True)"
      ],
      "metadata": {
        "id": "IFbmSXJcAFAs"
      },
      "execution_count": 169,
      "outputs": []
    },
    {
      "cell_type": "code",
      "source": [
        "data=pd.concat([data,sales],axis=1)"
      ],
      "metadata": {
        "id": "zvVMBCaEArrg"
      },
      "execution_count": 170,
      "outputs": []
    },
    {
      "cell_type": "code",
      "source": [
        "data.head()"
      ],
      "metadata": {
        "colab": {
          "base_uri": "https://localhost:8080/",
          "height": 206
        },
        "id": "SXvOQEhAAv86",
        "outputId": "311b2696-3891-4a6e-fb58-e6297c94ed82"
      },
      "execution_count": 171,
      "outputs": [
        {
          "output_type": "execute_result",
          "data": {
            "text/plain": [
              "   CompPrice  Income  Advertising  Population  Price  Age  Education  \\\n",
              "0        138      73           11         276    120   42         17   \n",
              "1        111      48           16         260     83   65         10   \n",
              "2        113      35           10         269     80   59         12   \n",
              "3        117     100            4         466     97   55         14   \n",
              "4        141      64            3         340    128   38         13   \n",
              "\n",
              "   ShelveLoc_Good  ShelveLoc_Medium  Urban_Yes  US_Yes  sales  \n",
              "0               0                 0          1       1      2  \n",
              "1               1                 0          1       1      3  \n",
              "2               0                 1          1       1      3  \n",
              "3               0                 1          1       1      2  \n",
              "4               0                 0          1       0      1  "
            ],
            "text/html": [
              "\n",
              "  <div id=\"df-33979502-955c-48b9-aac4-3e0b54816d65\">\n",
              "    <div class=\"colab-df-container\">\n",
              "      <div>\n",
              "<style scoped>\n",
              "    .dataframe tbody tr th:only-of-type {\n",
              "        vertical-align: middle;\n",
              "    }\n",
              "\n",
              "    .dataframe tbody tr th {\n",
              "        vertical-align: top;\n",
              "    }\n",
              "\n",
              "    .dataframe thead th {\n",
              "        text-align: right;\n",
              "    }\n",
              "</style>\n",
              "<table border=\"1\" class=\"dataframe\">\n",
              "  <thead>\n",
              "    <tr style=\"text-align: right;\">\n",
              "      <th></th>\n",
              "      <th>CompPrice</th>\n",
              "      <th>Income</th>\n",
              "      <th>Advertising</th>\n",
              "      <th>Population</th>\n",
              "      <th>Price</th>\n",
              "      <th>Age</th>\n",
              "      <th>Education</th>\n",
              "      <th>ShelveLoc_Good</th>\n",
              "      <th>ShelveLoc_Medium</th>\n",
              "      <th>Urban_Yes</th>\n",
              "      <th>US_Yes</th>\n",
              "      <th>sales</th>\n",
              "    </tr>\n",
              "  </thead>\n",
              "  <tbody>\n",
              "    <tr>\n",
              "      <th>0</th>\n",
              "      <td>138</td>\n",
              "      <td>73</td>\n",
              "      <td>11</td>\n",
              "      <td>276</td>\n",
              "      <td>120</td>\n",
              "      <td>42</td>\n",
              "      <td>17</td>\n",
              "      <td>0</td>\n",
              "      <td>0</td>\n",
              "      <td>1</td>\n",
              "      <td>1</td>\n",
              "      <td>2</td>\n",
              "    </tr>\n",
              "    <tr>\n",
              "      <th>1</th>\n",
              "      <td>111</td>\n",
              "      <td>48</td>\n",
              "      <td>16</td>\n",
              "      <td>260</td>\n",
              "      <td>83</td>\n",
              "      <td>65</td>\n",
              "      <td>10</td>\n",
              "      <td>1</td>\n",
              "      <td>0</td>\n",
              "      <td>1</td>\n",
              "      <td>1</td>\n",
              "      <td>3</td>\n",
              "    </tr>\n",
              "    <tr>\n",
              "      <th>2</th>\n",
              "      <td>113</td>\n",
              "      <td>35</td>\n",
              "      <td>10</td>\n",
              "      <td>269</td>\n",
              "      <td>80</td>\n",
              "      <td>59</td>\n",
              "      <td>12</td>\n",
              "      <td>0</td>\n",
              "      <td>1</td>\n",
              "      <td>1</td>\n",
              "      <td>1</td>\n",
              "      <td>3</td>\n",
              "    </tr>\n",
              "    <tr>\n",
              "      <th>3</th>\n",
              "      <td>117</td>\n",
              "      <td>100</td>\n",
              "      <td>4</td>\n",
              "      <td>466</td>\n",
              "      <td>97</td>\n",
              "      <td>55</td>\n",
              "      <td>14</td>\n",
              "      <td>0</td>\n",
              "      <td>1</td>\n",
              "      <td>1</td>\n",
              "      <td>1</td>\n",
              "      <td>2</td>\n",
              "    </tr>\n",
              "    <tr>\n",
              "      <th>4</th>\n",
              "      <td>141</td>\n",
              "      <td>64</td>\n",
              "      <td>3</td>\n",
              "      <td>340</td>\n",
              "      <td>128</td>\n",
              "      <td>38</td>\n",
              "      <td>13</td>\n",
              "      <td>0</td>\n",
              "      <td>0</td>\n",
              "      <td>1</td>\n",
              "      <td>0</td>\n",
              "      <td>1</td>\n",
              "    </tr>\n",
              "  </tbody>\n",
              "</table>\n",
              "</div>\n",
              "      <button class=\"colab-df-convert\" onclick=\"convertToInteractive('df-33979502-955c-48b9-aac4-3e0b54816d65')\"\n",
              "              title=\"Convert this dataframe to an interactive table.\"\n",
              "              style=\"display:none;\">\n",
              "        \n",
              "  <svg xmlns=\"http://www.w3.org/2000/svg\" height=\"24px\"viewBox=\"0 0 24 24\"\n",
              "       width=\"24px\">\n",
              "    <path d=\"M0 0h24v24H0V0z\" fill=\"none\"/>\n",
              "    <path d=\"M18.56 5.44l.94 2.06.94-2.06 2.06-.94-2.06-.94-.94-2.06-.94 2.06-2.06.94zm-11 1L8.5 8.5l.94-2.06 2.06-.94-2.06-.94L8.5 2.5l-.94 2.06-2.06.94zm10 10l.94 2.06.94-2.06 2.06-.94-2.06-.94-.94-2.06-.94 2.06-2.06.94z\"/><path d=\"M17.41 7.96l-1.37-1.37c-.4-.4-.92-.59-1.43-.59-.52 0-1.04.2-1.43.59L10.3 9.45l-7.72 7.72c-.78.78-.78 2.05 0 2.83L4 21.41c.39.39.9.59 1.41.59.51 0 1.02-.2 1.41-.59l7.78-7.78 2.81-2.81c.8-.78.8-2.07 0-2.86zM5.41 20L4 18.59l7.72-7.72 1.47 1.35L5.41 20z\"/>\n",
              "  </svg>\n",
              "      </button>\n",
              "      \n",
              "  <style>\n",
              "    .colab-df-container {\n",
              "      display:flex;\n",
              "      flex-wrap:wrap;\n",
              "      gap: 12px;\n",
              "    }\n",
              "\n",
              "    .colab-df-convert {\n",
              "      background-color: #E8F0FE;\n",
              "      border: none;\n",
              "      border-radius: 50%;\n",
              "      cursor: pointer;\n",
              "      display: none;\n",
              "      fill: #1967D2;\n",
              "      height: 32px;\n",
              "      padding: 0 0 0 0;\n",
              "      width: 32px;\n",
              "    }\n",
              "\n",
              "    .colab-df-convert:hover {\n",
              "      background-color: #E2EBFA;\n",
              "      box-shadow: 0px 1px 2px rgba(60, 64, 67, 0.3), 0px 1px 3px 1px rgba(60, 64, 67, 0.15);\n",
              "      fill: #174EA6;\n",
              "    }\n",
              "\n",
              "    [theme=dark] .colab-df-convert {\n",
              "      background-color: #3B4455;\n",
              "      fill: #D2E3FC;\n",
              "    }\n",
              "\n",
              "    [theme=dark] .colab-df-convert:hover {\n",
              "      background-color: #434B5C;\n",
              "      box-shadow: 0px 1px 3px 1px rgba(0, 0, 0, 0.15);\n",
              "      filter: drop-shadow(0px 1px 2px rgba(0, 0, 0, 0.3));\n",
              "      fill: #FFFFFF;\n",
              "    }\n",
              "  </style>\n",
              "\n",
              "      <script>\n",
              "        const buttonEl =\n",
              "          document.querySelector('#df-33979502-955c-48b9-aac4-3e0b54816d65 button.colab-df-convert');\n",
              "        buttonEl.style.display =\n",
              "          google.colab.kernel.accessAllowed ? 'block' : 'none';\n",
              "\n",
              "        async function convertToInteractive(key) {\n",
              "          const element = document.querySelector('#df-33979502-955c-48b9-aac4-3e0b54816d65');\n",
              "          const dataTable =\n",
              "            await google.colab.kernel.invokeFunction('convertToInteractive',\n",
              "                                                     [key], {});\n",
              "          if (!dataTable) return;\n",
              "\n",
              "          const docLinkHtml = 'Like what you see? Visit the ' +\n",
              "            '<a target=\"_blank\" href=https://colab.research.google.com/notebooks/data_table.ipynb>data table notebook</a>'\n",
              "            + ' to learn more about interactive tables.';\n",
              "          element.innerHTML = '';\n",
              "          dataTable['output_type'] = 'display_data';\n",
              "          await google.colab.output.renderOutput(dataTable, element);\n",
              "          const docLink = document.createElement('div');\n",
              "          docLink.innerHTML = docLinkHtml;\n",
              "          element.appendChild(docLink);\n",
              "        }\n",
              "      </script>\n",
              "    </div>\n",
              "  </div>\n",
              "  "
            ]
          },
          "metadata": {},
          "execution_count": 171
        }
      ]
    },
    {
      "cell_type": "markdown",
      "source": [
        "Selecting the independent and dependent variables"
      ],
      "metadata": {
        "id": "X9QALEnZ_4qY"
      }
    },
    {
      "cell_type": "code",
      "source": [
        "X=data.iloc[:,:-1].values\n",
        "y=data.iloc[:,-1].values"
      ],
      "metadata": {
        "id": "S7SJlaVS_8HW"
      },
      "execution_count": 172,
      "outputs": []
    },
    {
      "cell_type": "markdown",
      "source": [
        "Using univariate feature(chi-square) selection we can get to know about the correlation of diff feature with target variable"
      ],
      "metadata": {
        "id": "n4WQmg2RBJvN"
      }
    },
    {
      "cell_type": "code",
      "source": [
        "from sklearn.feature_selection import SelectKBest\n",
        "from sklearn.feature_selection import chi2\n",
        "from numpy import set_printoptions\n",
        "test=SelectKBest(score_func=chi2,k=4)\n",
        "feat=test.fit(X,y)\n",
        "#summirize scores\n",
        "set_printoptions(precision=10)\n",
        "print(feat.scores_)"
      ],
      "metadata": {
        "colab": {
          "base_uri": "https://localhost:8080/"
        },
        "id": "hEApThTTBaw3",
        "outputId": "eeb2bbd7-2193-41a7-ba03-26351dc33ffe"
      },
      "execution_count": 173,
      "outputs": [
        {
          "output_type": "stream",
          "name": "stdout",
          "text": [
            "[2.9852395048e+00 8.9707722749e+01 1.6032533020e+02 8.6093999216e+01\n",
            " 2.8620592792e+02 1.0574929842e+02 1.0264952002e+00 7.1825641309e+01\n",
            " 1.1059414519e+01 1.7135818136e-02 4.8685360623e+00]\n"
          ]
        }
      ]
    },
    {
      "cell_type": "markdown",
      "source": [
        "**Splitting the data set into training and testing Groups**"
      ],
      "metadata": {
        "id": "Dr0px-OnC3eT"
      }
    },
    {
      "cell_type": "code",
      "source": [
        "from sklearn.model_selection import train_test_split\n",
        "X_train,X_test,y_train,y_test=train_test_split(X,y,test_size=.2,random_state=0)"
      ],
      "metadata": {
        "id": "-CzoMwE2BGV-"
      },
      "execution_count": 174,
      "outputs": []
    },
    {
      "cell_type": "code",
      "source": [
        "X_train"
      ],
      "metadata": {
        "colab": {
          "base_uri": "https://localhost:8080/"
        },
        "id": "dBxIvUShDJS8",
        "outputId": "887e88f3-8aab-453c-937c-29c9bdff1337"
      },
      "execution_count": 175,
      "outputs": [
        {
          "output_type": "execute_result",
          "data": {
            "text/plain": [
              "array([[138,  35,   6, ...,   0,   1,   0],\n",
              "       [100,  67,  12, ...,   1,   0,   1],\n",
              "       [143,  81,   5, ...,   1,   1,   1],\n",
              "       ...,\n",
              "       [145,  53,   0, ...,   1,   1,   0],\n",
              "       [126,  98,   0, ...,   0,   1,   0],\n",
              "       [104, 102,  13, ...,   0,   1,   1]])"
            ]
          },
          "metadata": {},
          "execution_count": 175
        }
      ]
    },
    {
      "cell_type": "code",
      "source": [
        "y_train"
      ],
      "metadata": {
        "colab": {
          "base_uri": "https://localhost:8080/"
        },
        "id": "Gx5rYxCEDSEG",
        "outputId": "a2223cfa-8321-49d4-9ecd-6bbaffa59476"
      },
      "execution_count": 176,
      "outputs": [
        {
          "output_type": "execute_result",
          "data": {
            "text/plain": [
              "array([2, 2, 2, 1, 2, 3, 2, 2, 3, 3, 2, 2, 3, 2, 2, 1, 2, 2, 2, 3, 2, 2,\n",
              "       2, 2, 2, 2, 2, 2, 2, 1, 2, 2, 2, 3, 2, 2, 2, 3, 2, 2, 1, 1, 2, 3,\n",
              "       2, 2, 2, 2, 2, 2, 3, 2, 2, 3, 2, 2, 2, 2, 1, 3, 2, 2, 3, 2, 2, 2,\n",
              "       1, 3, 2, 2, 1, 2, 2, 2, 1, 2, 2, 3, 1, 2, 3, 2, 2, 2, 1, 1, 2, 2,\n",
              "       2, 2, 2, 2, 2, 2, 2, 2, 1, 3, 2, 2, 1, 3, 2, 1, 3, 1, 2, 2, 2, 1,\n",
              "       1, 1, 3, 2, 3, 1, 2, 3, 3, 2, 3, 2, 3, 2, 2, 2, 1, 3, 2, 1, 2, 3,\n",
              "       2, 1, 3, 1, 2, 2, 2, 2, 2, 2, 1, 3, 2, 2, 2, 2, 2, 3, 3, 2, 2, 2,\n",
              "       2, 1, 1, 1, 1, 3, 2, 2, 2, 2, 2, 2, 2, 3, 3, 2, 2, 2, 2, 2, 2, 2,\n",
              "       2, 3, 2, 2, 2, 2, 2, 2, 1, 2, 2, 2, 2, 2, 2, 2, 2, 1, 1, 2, 1, 3,\n",
              "       3, 2, 2, 2, 1, 2, 2, 3, 1, 1, 2, 3, 3, 2, 2, 1, 2, 2, 2, 2, 1, 2,\n",
              "       2, 3, 3, 2, 3, 1, 2, 3, 2, 3, 3, 2, 2, 1, 2, 1, 2, 2, 1, 1, 2, 3,\n",
              "       2, 2, 1, 1, 1, 3, 1, 2, 1, 3, 2, 2, 2, 1, 2, 2, 2, 3, 2, 3, 3, 2,\n",
              "       2, 2, 2, 1, 2, 1, 2, 2, 3, 2, 1, 2, 2, 2, 3, 2, 2, 2, 3, 2, 2, 3,\n",
              "       1, 2, 2, 1, 2, 2, 2, 2, 2, 3, 1, 2, 3, 1, 2, 1, 3, 2, 2, 2, 3, 3,\n",
              "       1, 2, 2, 1, 1, 1, 1, 3, 2, 2, 1, 2])"
            ]
          },
          "metadata": {},
          "execution_count": 176
        }
      ]
    },
    {
      "cell_type": "markdown",
      "source": [
        "**Building the model**"
      ],
      "metadata": {
        "id": "-xTO2KHRDUN9"
      }
    },
    {
      "cell_type": "markdown",
      "source": [
        "C5 model"
      ],
      "metadata": {
        "id": "XqJ4ozuUDfA6"
      }
    },
    {
      "cell_type": "code",
      "source": [
        "from sklearn.tree import DecisionTreeClassifier\n",
        "model=DecisionTreeClassifier(criterion='entropy',max_depth=3)"
      ],
      "metadata": {
        "id": "nb-Tz1GgDWl1"
      },
      "execution_count": 177,
      "outputs": []
    },
    {
      "cell_type": "code",
      "source": [
        "model.fit(X_train,y_train)"
      ],
      "metadata": {
        "colab": {
          "base_uri": "https://localhost:8080/"
        },
        "id": "G29gntaoDk2O",
        "outputId": "383d07b4-a0f9-4394-dd67-a4efc1b63396"
      },
      "execution_count": 178,
      "outputs": [
        {
          "output_type": "execute_result",
          "data": {
            "text/plain": [
              "DecisionTreeClassifier(criterion='entropy', max_depth=3)"
            ]
          },
          "metadata": {},
          "execution_count": 178
        }
      ]
    },
    {
      "cell_type": "code",
      "source": [
        "y_pred=model.predict(X_test)"
      ],
      "metadata": {
        "id": "CVU3krQED0fL"
      },
      "execution_count": 179,
      "outputs": []
    },
    {
      "cell_type": "markdown",
      "source": [
        "Let us now use the metrics to measure the accuracy of the model"
      ],
      "metadata": {
        "id": "tL0T9o0pD4tc"
      }
    },
    {
      "cell_type": "code",
      "source": [
        "from sklearn.metrics import accuracy_score,classification_report,confusion_matrix"
      ],
      "metadata": {
        "id": "UT8wFq3bDp3Y"
      },
      "execution_count": 180,
      "outputs": []
    },
    {
      "cell_type": "code",
      "source": [
        "print(accuracy_score(y_test,y_pred))"
      ],
      "metadata": {
        "colab": {
          "base_uri": "https://localhost:8080/"
        },
        "id": "tfHBLAJWEKe5",
        "outputId": "746d79ab-c3b0-47bb-b948-d23972d442b3"
      },
      "execution_count": 181,
      "outputs": [
        {
          "output_type": "stream",
          "name": "stdout",
          "text": [
            "0.6\n"
          ]
        }
      ]
    },
    {
      "cell_type": "code",
      "source": [
        "print(classification_report(y_test,y_pred))"
      ],
      "metadata": {
        "colab": {
          "base_uri": "https://localhost:8080/"
        },
        "id": "e63fhZ-bEPW3",
        "outputId": "77d3c65a-525f-4b60-f48c-a24534470996"
      },
      "execution_count": 182,
      "outputs": [
        {
          "output_type": "stream",
          "name": "stdout",
          "text": [
            "              precision    recall  f1-score   support\n",
            "\n",
            "           1       0.36      0.36      0.36        14\n",
            "           2       0.63      0.81      0.71        48\n",
            "           3       1.00      0.22      0.36        18\n",
            "\n",
            "    accuracy                           0.60        80\n",
            "   macro avg       0.66      0.46      0.48        80\n",
            "weighted avg       0.66      0.60      0.57        80\n",
            "\n"
          ]
        }
      ]
    },
    {
      "cell_type": "markdown",
      "source": [
        "The accuracy of the model is too low .let us now change the random state"
      ],
      "metadata": {
        "id": "GCj4DLwkEZRt"
      }
    },
    {
      "cell_type": "code",
      "source": [
        "for i in range(1,10):\n",
        "  from sklearn.tree import DecisionTreeClassifier\n",
        "  model=DecisionTreeClassifier(criterion='entropy',max_depth=i)\n",
        "  model.fit(X_train,y_train)\n",
        "  y_pred=model.predict(X_test)\n",
        "  print(accuracy_score(y_test,y_pred),'==>',i)"
      ],
      "metadata": {
        "colab": {
          "base_uri": "https://localhost:8080/"
        },
        "id": "NImc0LfrEhDF",
        "outputId": "c1fe9d1b-3e4b-413c-be81-171c89c26283"
      },
      "execution_count": 183,
      "outputs": [
        {
          "output_type": "stream",
          "name": "stdout",
          "text": [
            "0.6625 ==> 1\n",
            "0.65 ==> 2\n",
            "0.6 ==> 3\n",
            "0.5875 ==> 4\n",
            "0.6625 ==> 5\n",
            "0.675 ==> 6\n",
            "0.6625 ==> 7\n",
            "0.6625 ==> 8\n",
            "0.675 ==> 9\n"
          ]
        }
      ]
    },
    {
      "cell_type": "markdown",
      "source": [
        "We have the highest accuracy when the max depth=7"
      ],
      "metadata": {
        "id": "GeWUpFHRFGn3"
      }
    },
    {
      "cell_type": "code",
      "source": [
        "from sklearn.tree import DecisionTreeClassifier\n",
        "model=DecisionTreeClassifier(criterion='entropy',max_depth=7)\n",
        "model.fit(X_train,y_train)\n",
        "y_pred=model.predict(X_test)\n",
        "print(accuracy_score(y_test,y_pred)*100)"
      ],
      "metadata": {
        "colab": {
          "base_uri": "https://localhost:8080/"
        },
        "id": "K4C6HVs0FMnw",
        "outputId": "6f1a643a-8c60-4340-8cc6-fc6ab0ba0497"
      },
      "execution_count": 184,
      "outputs": [
        {
          "output_type": "stream",
          "name": "stdout",
          "text": [
            "66.25\n"
          ]
        }
      ]
    },
    {
      "cell_type": "markdown",
      "source": [
        "There is slight improvement in the model"
      ],
      "metadata": {
        "id": "ucoaGG8pFTQn"
      }
    },
    {
      "cell_type": "code",
      "source": [
        "for i in range(0,50):\n",
        "   X_train,X_test,y_train,y_test=train_test_split(X,y,test_size=.2,random_state=i)\n",
        "   model=DecisionTreeClassifier(criterion='entropy',max_depth=7)\n",
        "   model.fit(X_train,y_train)\n",
        "   y_pred=model.predict(X_test)\n",
        "   print(accuracy_score(y_test,y_pred),'==>',i)\n"
      ],
      "metadata": {
        "colab": {
          "base_uri": "https://localhost:8080/"
        },
        "id": "bAX1_bMDFWLb",
        "outputId": "9215a6b0-ee43-470c-b021-5fb1b678a4ef"
      },
      "execution_count": 185,
      "outputs": [
        {
          "output_type": "stream",
          "name": "stdout",
          "text": [
            "0.675 ==> 0\n",
            "0.6375 ==> 1\n",
            "0.65 ==> 2\n",
            "0.6 ==> 3\n",
            "0.6125 ==> 4\n",
            "0.6625 ==> 5\n",
            "0.7 ==> 6\n",
            "0.65 ==> 7\n",
            "0.75 ==> 8\n",
            "0.675 ==> 9\n",
            "0.6375 ==> 10\n",
            "0.675 ==> 11\n",
            "0.6125 ==> 12\n",
            "0.5375 ==> 13\n",
            "0.625 ==> 14\n",
            "0.6875 ==> 15\n",
            "0.65 ==> 16\n",
            "0.625 ==> 17\n",
            "0.7625 ==> 18\n",
            "0.6 ==> 19\n",
            "0.55 ==> 20\n",
            "0.5875 ==> 21\n",
            "0.5875 ==> 22\n",
            "0.7125 ==> 23\n",
            "0.5875 ==> 24\n",
            "0.5875 ==> 25\n",
            "0.5875 ==> 26\n",
            "0.7 ==> 27\n",
            "0.6375 ==> 28\n",
            "0.6 ==> 29\n",
            "0.7125 ==> 30\n",
            "0.5375 ==> 31\n",
            "0.775 ==> 32\n",
            "0.6 ==> 33\n",
            "0.55 ==> 34\n",
            "0.6125 ==> 35\n",
            "0.55 ==> 36\n",
            "0.625 ==> 37\n",
            "0.65 ==> 38\n",
            "0.65 ==> 39\n",
            "0.6375 ==> 40\n",
            "0.55 ==> 41\n",
            "0.6375 ==> 42\n",
            "0.5875 ==> 43\n",
            "0.6875 ==> 44\n",
            "0.6625 ==> 45\n",
            "0.75 ==> 46\n",
            "0.5375 ==> 47\n",
            "0.6875 ==> 48\n",
            "0.625 ==> 49\n"
          ]
        }
      ]
    },
    {
      "cell_type": "markdown",
      "source": [
        "For the random state=18 we are getting accuracy=76.25"
      ],
      "metadata": {
        "id": "QRc5ugrcFuv5"
      }
    },
    {
      "cell_type": "code",
      "source": [
        "X_train,X_test,y_train,y_test=train_test_split(X,y,test_size=.2,random_state=18)\n",
        "model=DecisionTreeClassifier(criterion='entropy',max_depth=7)\n",
        "model.fit(X_train,y_train)\n",
        "y_pred=model.predict(X_test)\n",
        "print(accuracy_score(y_test,y_pred))"
      ],
      "metadata": {
        "colab": {
          "base_uri": "https://localhost:8080/"
        },
        "id": "vigPK5_QGCna",
        "outputId": "3cace414-d70f-4846-a4d8-5832331bfdfc"
      },
      "execution_count": 186,
      "outputs": [
        {
          "output_type": "stream",
          "name": "stdout",
          "text": [
            "0.7625\n"
          ]
        }
      ]
    },
    {
      "cell_type": "code",
      "source": [
        "print(classification_report(y_test,y_pred))"
      ],
      "metadata": {
        "colab": {
          "base_uri": "https://localhost:8080/"
        },
        "id": "jJWxREiNGIyb",
        "outputId": "137b6ef5-7dc9-459e-8a17-cd19f99c71db"
      },
      "execution_count": 187,
      "outputs": [
        {
          "output_type": "stream",
          "name": "stdout",
          "text": [
            "              precision    recall  f1-score   support\n",
            "\n",
            "           1       0.69      0.56      0.62        16\n",
            "           2       0.80      0.81      0.80        48\n",
            "           3       0.72      0.81      0.76        16\n",
            "\n",
            "    accuracy                           0.76        80\n",
            "   macro avg       0.74      0.73      0.73        80\n",
            "weighted avg       0.76      0.76      0.76        80\n",
            "\n"
          ]
        }
      ]
    },
    {
      "cell_type": "code",
      "source": [
        "print(confusion_matrix(y_test,y_pred))"
      ],
      "metadata": {
        "colab": {
          "base_uri": "https://localhost:8080/"
        },
        "id": "lBmgMPOaGO8E",
        "outputId": "a8d71552-1b59-4f7f-b682-3f41616bf90a"
      },
      "execution_count": 188,
      "outputs": [
        {
          "output_type": "stream",
          "name": "stdout",
          "text": [
            "[[ 9  7  0]\n",
            " [ 4 39  5]\n",
            " [ 0  3 13]]\n"
          ]
        }
      ]
    },
    {
      "cell_type": "markdown",
      "source": [
        "We have arrived at model which gives an accuracy score of 76%"
      ],
      "metadata": {
        "id": "cOaFf_smGYuB"
      }
    },
    {
      "cell_type": "code",
      "source": [
        "from sklearn import tree\n"
      ],
      "metadata": {
        "id": "TVpHQOA6HQmf"
      },
      "execution_count": 189,
      "outputs": []
    },
    {
      "cell_type": "code",
      "source": [
        "fig=plt.figure(figsize=(15,15))\n",
        "tree.plot_tree(model)"
      ],
      "metadata": {
        "colab": {
          "base_uri": "https://localhost:8080/",
          "height": 1000
        },
        "id": "TsKy7bU1HnTn",
        "outputId": "7e14c301-258d-45e0-f62c-cf6718c98cbd"
      },
      "execution_count": 190,
      "outputs": [
        {
          "output_type": "execute_result",
          "data": {
            "text/plain": [
              "[Text(0.683641975308642, 0.9375, 'X[7] <= 0.5\\nentropy = 1.351\\nsamples = 320\\nvalue = [61, 196, 63]'),\n",
              " Text(0.4537037037037037, 0.8125, 'X[4] <= 124.5\\nentropy = 1.243\\nsamples = 252\\nvalue = [59, 165, 28]'),\n",
              " Text(0.2824074074074074, 0.6875, 'X[0] <= 123.5\\nentropy = 1.201\\nsamples = 158\\nvalue = [22, 109, 27]'),\n",
              " Text(0.1574074074074074, 0.5625, 'X[4] <= 90.5\\nentropy = 1.221\\nsamples = 93\\nvalue = [21, 62, 10]'),\n",
              " Text(0.06790123456790123, 0.4375, 'X[8] <= 0.5\\nentropy = 1.142\\nsamples = 26\\nvalue = [1, 16, 9]'),\n",
              " Text(0.037037037037037035, 0.3125, 'X[9] <= 0.5\\nentropy = 0.503\\nsamples = 9\\nvalue = [1, 8, 0]'),\n",
              " Text(0.024691358024691357, 0.1875, 'X[5] <= 51.0\\nentropy = 1.0\\nsamples = 2\\nvalue = [1, 1, 0]'),\n",
              " Text(0.012345679012345678, 0.0625, 'entropy = 0.0\\nsamples = 1\\nvalue = [0, 1, 0]'),\n",
              " Text(0.037037037037037035, 0.0625, 'entropy = 0.0\\nsamples = 1\\nvalue = [1, 0, 0]'),\n",
              " Text(0.04938271604938271, 0.1875, 'entropy = 0.0\\nsamples = 7\\nvalue = [0, 7, 0]'),\n",
              " Text(0.09876543209876543, 0.3125, 'X[10] <= 0.5\\nentropy = 0.998\\nsamples = 17\\nvalue = [0, 8, 9]'),\n",
              " Text(0.07407407407407407, 0.1875, 'X[3] <= 42.0\\nentropy = 0.592\\nsamples = 7\\nvalue = [0, 6, 1]'),\n",
              " Text(0.06172839506172839, 0.0625, 'entropy = 0.0\\nsamples = 1\\nvalue = [0, 0, 1]'),\n",
              " Text(0.08641975308641975, 0.0625, 'entropy = 0.0\\nsamples = 6\\nvalue = [0, 6, 0]'),\n",
              " Text(0.12345679012345678, 0.1875, 'X[3] <= 66.5\\nentropy = 0.722\\nsamples = 10\\nvalue = [0, 2, 8]'),\n",
              " Text(0.1111111111111111, 0.0625, 'entropy = 0.0\\nsamples = 1\\nvalue = [0, 1, 0]'),\n",
              " Text(0.13580246913580246, 0.0625, 'entropy = 0.503\\nsamples = 9\\nvalue = [0, 1, 8]'),\n",
              " Text(0.24691358024691357, 0.4375, 'X[8] <= 0.5\\nentropy = 0.984\\nsamples = 67\\nvalue = [20, 46, 1]'),\n",
              " Text(0.19753086419753085, 0.3125, 'X[2] <= 8.5\\nentropy = 0.998\\nsamples = 21\\nvalue = [11, 10, 0]'),\n",
              " Text(0.1728395061728395, 0.1875, 'X[4] <= 97.5\\nentropy = 0.779\\nsamples = 13\\nvalue = [10, 3, 0]'),\n",
              " Text(0.16049382716049382, 0.0625, 'entropy = 0.971\\nsamples = 5\\nvalue = [2, 3, 0]'),\n",
              " Text(0.18518518518518517, 0.0625, 'entropy = 0.0\\nsamples = 8\\nvalue = [8, 0, 0]'),\n",
              " Text(0.2222222222222222, 0.1875, 'X[6] <= 10.5\\nentropy = 0.544\\nsamples = 8\\nvalue = [1, 7, 0]'),\n",
              " Text(0.20987654320987653, 0.0625, 'entropy = 0.0\\nsamples = 1\\nvalue = [1, 0, 0]'),\n",
              " Text(0.2345679012345679, 0.0625, 'entropy = 0.0\\nsamples = 7\\nvalue = [0, 7, 0]'),\n",
              " Text(0.2962962962962963, 0.3125, 'X[4] <= 105.5\\nentropy = 0.857\\nsamples = 46\\nvalue = [9, 36, 1]'),\n",
              " Text(0.2716049382716049, 0.1875, 'X[0] <= 91.5\\nentropy = 0.53\\nsamples = 22\\nvalue = [1, 20, 1]'),\n",
              " Text(0.25925925925925924, 0.0625, 'entropy = 0.0\\nsamples = 1\\nvalue = [1, 0, 0]'),\n",
              " Text(0.2839506172839506, 0.0625, 'entropy = 0.276\\nsamples = 21\\nvalue = [0, 20, 1]'),\n",
              " Text(0.32098765432098764, 0.1875, 'X[3] <= 472.5\\nentropy = 0.918\\nsamples = 24\\nvalue = [8, 16, 0]'),\n",
              " Text(0.30864197530864196, 0.0625, 'entropy = 0.792\\nsamples = 21\\nvalue = [5, 16, 0]'),\n",
              " Text(0.3333333333333333, 0.0625, 'entropy = 0.0\\nsamples = 3\\nvalue = [3, 0, 0]'),\n",
              " Text(0.4074074074074074, 0.5625, 'X[1] <= 61.5\\nentropy = 0.937\\nsamples = 65\\nvalue = [1, 47, 17]'),\n",
              " Text(0.345679012345679, 0.4375, 'X[4] <= 121.0\\nentropy = 0.267\\nsamples = 22\\nvalue = [1, 21, 0]'),\n",
              " Text(0.3333333333333333, 0.3125, 'entropy = 0.0\\nsamples = 18\\nvalue = [0, 18, 0]'),\n",
              " Text(0.35802469135802467, 0.3125, 'X[6] <= 16.5\\nentropy = 0.811\\nsamples = 4\\nvalue = [1, 3, 0]'),\n",
              " Text(0.345679012345679, 0.1875, 'entropy = 0.0\\nsamples = 3\\nvalue = [0, 3, 0]'),\n",
              " Text(0.37037037037037035, 0.1875, 'entropy = 0.0\\nsamples = 1\\nvalue = [1, 0, 0]'),\n",
              " Text(0.4691358024691358, 0.4375, 'X[2] <= 9.0\\nentropy = 0.968\\nsamples = 43\\nvalue = [0, 26, 17]'),\n",
              " Text(0.41975308641975306, 0.3125, 'X[4] <= 95.5\\nentropy = 0.65\\nsamples = 24\\nvalue = [0, 20, 4]'),\n",
              " Text(0.3950617283950617, 0.1875, 'X[3] <= 223.0\\nentropy = 0.971\\nsamples = 5\\nvalue = [0, 2, 3]'),\n",
              " Text(0.38271604938271603, 0.0625, 'entropy = 0.0\\nsamples = 3\\nvalue = [0, 0, 3]'),\n",
              " Text(0.4074074074074074, 0.0625, 'entropy = 0.0\\nsamples = 2\\nvalue = [0, 2, 0]'),\n",
              " Text(0.4444444444444444, 0.1875, 'X[0] <= 156.0\\nentropy = 0.297\\nsamples = 19\\nvalue = [0, 18, 1]'),\n",
              " Text(0.43209876543209874, 0.0625, 'entropy = 0.0\\nsamples = 18\\nvalue = [0, 18, 0]'),\n",
              " Text(0.4567901234567901, 0.0625, 'entropy = 0.0\\nsamples = 1\\nvalue = [0, 0, 1]'),\n",
              " Text(0.5185185185185185, 0.3125, 'X[5] <= 69.5\\nentropy = 0.9\\nsamples = 19\\nvalue = [0, 6, 13]'),\n",
              " Text(0.49382716049382713, 0.1875, 'X[1] <= 78.5\\nentropy = 0.592\\nsamples = 14\\nvalue = [0, 2, 12]'),\n",
              " Text(0.48148148148148145, 0.0625, 'entropy = 0.971\\nsamples = 5\\nvalue = [0, 2, 3]'),\n",
              " Text(0.5061728395061729, 0.0625, 'entropy = 0.0\\nsamples = 9\\nvalue = [0, 0, 9]'),\n",
              " Text(0.5432098765432098, 0.1875, 'X[3] <= 489.0\\nentropy = 0.722\\nsamples = 5\\nvalue = [0, 4, 1]'),\n",
              " Text(0.5308641975308642, 0.0625, 'entropy = 0.0\\nsamples = 4\\nvalue = [0, 4, 0]'),\n",
              " Text(0.5555555555555556, 0.0625, 'entropy = 0.0\\nsamples = 1\\nvalue = [0, 0, 1]'),\n",
              " Text(0.625, 0.6875, 'X[0] <= 124.5\\nentropy = 1.044\\nsamples = 94\\nvalue = [37, 56, 1]'),\n",
              " Text(0.5555555555555556, 0.5625, 'X[2] <= 0.5\\nentropy = 0.828\\nsamples = 23\\nvalue = [17, 6, 0]'),\n",
              " Text(0.5432098765432098, 0.4375, 'entropy = 0.0\\nsamples = 9\\nvalue = [9, 0, 0]'),\n",
              " Text(0.5679012345679012, 0.4375, 'X[8] <= 0.5\\nentropy = 0.985\\nsamples = 14\\nvalue = [8, 6, 0]'),\n",
              " Text(0.5555555555555556, 0.3125, 'entropy = 0.0\\nsamples = 5\\nvalue = [5, 0, 0]'),\n",
              " Text(0.5802469135802469, 0.3125, 'X[5] <= 57.0\\nentropy = 0.918\\nsamples = 9\\nvalue = [3, 6, 0]'),\n",
              " Text(0.5679012345679012, 0.1875, 'entropy = 0.0\\nsamples = 6\\nvalue = [0, 6, 0]'),\n",
              " Text(0.5925925925925926, 0.1875, 'entropy = 0.0\\nsamples = 3\\nvalue = [3, 0, 0]'),\n",
              " Text(0.6944444444444444, 0.5625, 'X[8] <= 0.5\\nentropy = 0.958\\nsamples = 71\\nvalue = [20, 50, 1]'),\n",
              " Text(0.6419753086419753, 0.4375, 'X[6] <= 15.5\\nentropy = 0.998\\nsamples = 21\\nvalue = [11, 10, 0]'),\n",
              " Text(0.6296296296296297, 0.3125, 'X[3] <= 321.5\\nentropy = 0.896\\nsamples = 16\\nvalue = [11, 5, 0]'),\n",
              " Text(0.6172839506172839, 0.1875, 'entropy = 0.0\\nsamples = 8\\nvalue = [8, 0, 0]'),\n",
              " Text(0.6419753086419753, 0.1875, 'X[3] <= 338.5\\nentropy = 0.954\\nsamples = 8\\nvalue = [3, 5, 0]'),\n",
              " Text(0.6296296296296297, 0.0625, 'entropy = 0.0\\nsamples = 4\\nvalue = [0, 4, 0]'),\n",
              " Text(0.654320987654321, 0.0625, 'entropy = 0.811\\nsamples = 4\\nvalue = [3, 1, 0]'),\n",
              " Text(0.654320987654321, 0.3125, 'entropy = 0.0\\nsamples = 5\\nvalue = [0, 5, 0]'),\n",
              " Text(0.7469135802469136, 0.4375, 'X[5] <= 63.5\\nentropy = 0.816\\nsamples = 50\\nvalue = [9, 40, 1]'),\n",
              " Text(0.7160493827160493, 0.3125, 'X[5] <= 32.5\\nentropy = 0.49\\nsamples = 36\\nvalue = [2, 33, 1]'),\n",
              " Text(0.691358024691358, 0.1875, 'X[4] <= 137.5\\nentropy = 0.918\\nsamples = 3\\nvalue = [0, 2, 1]'),\n",
              " Text(0.6790123456790124, 0.0625, 'entropy = 0.0\\nsamples = 1\\nvalue = [0, 0, 1]'),\n",
              " Text(0.7037037037037037, 0.0625, 'entropy = 0.0\\nsamples = 2\\nvalue = [0, 2, 0]'),\n",
              " Text(0.7407407407407407, 0.1875, 'X[2] <= 1.5\\nentropy = 0.33\\nsamples = 33\\nvalue = [2, 31, 0]'),\n",
              " Text(0.7283950617283951, 0.0625, 'entropy = 0.65\\nsamples = 12\\nvalue = [2, 10, 0]'),\n",
              " Text(0.7530864197530864, 0.0625, 'entropy = 0.0\\nsamples = 21\\nvalue = [0, 21, 0]'),\n",
              " Text(0.7777777777777778, 0.3125, 'X[1] <= 67.5\\nentropy = 1.0\\nsamples = 14\\nvalue = [7, 7, 0]'),\n",
              " Text(0.7654320987654321, 0.1875, 'entropy = 0.0\\nsamples = 6\\nvalue = [6, 0, 0]'),\n",
              " Text(0.7901234567901234, 0.1875, 'X[1] <= 99.0\\nentropy = 0.544\\nsamples = 8\\nvalue = [1, 7, 0]'),\n",
              " Text(0.7777777777777778, 0.0625, 'entropy = 0.0\\nsamples = 7\\nvalue = [0, 7, 0]'),\n",
              " Text(0.8024691358024691, 0.0625, 'entropy = 0.0\\nsamples = 1\\nvalue = [1, 0, 0]'),\n",
              " Text(0.9135802469135802, 0.8125, 'X[4] <= 97.5\\nentropy = 1.159\\nsamples = 68\\nvalue = [2, 31, 35]'),\n",
              " Text(0.9012345679012346, 0.6875, 'entropy = 0.0\\nsamples = 13\\nvalue = [0, 0, 13]'),\n",
              " Text(0.9259259259259259, 0.6875, 'X[5] <= 68.5\\nentropy = 1.169\\nsamples = 55\\nvalue = [2, 31, 22]'),\n",
              " Text(0.8765432098765432, 0.5625, 'X[3] <= 359.5\\nentropy = 1.0\\nsamples = 41\\nvalue = [0, 20, 21]'),\n",
              " Text(0.8641975308641975, 0.4375, 'X[0] <= 132.5\\nentropy = 0.985\\nsamples = 35\\nvalue = [0, 20, 15]'),\n",
              " Text(0.8271604938271605, 0.3125, 'X[2] <= 6.0\\nentropy = 0.792\\nsamples = 21\\nvalue = [0, 16, 5]'),\n",
              " Text(0.8148148148148148, 0.1875, 'entropy = 0.0\\nsamples = 10\\nvalue = [0, 10, 0]'),\n",
              " Text(0.8395061728395061, 0.1875, 'X[4] <= 127.5\\nentropy = 0.994\\nsamples = 11\\nvalue = [0, 6, 5]'),\n",
              " Text(0.8271604938271605, 0.0625, 'entropy = 0.863\\nsamples = 7\\nvalue = [0, 2, 5]'),\n",
              " Text(0.8518518518518519, 0.0625, 'entropy = 0.0\\nsamples = 4\\nvalue = [0, 4, 0]'),\n",
              " Text(0.9012345679012346, 0.3125, 'X[4] <= 151.5\\nentropy = 0.863\\nsamples = 14\\nvalue = [0, 4, 10]'),\n",
              " Text(0.8888888888888888, 0.1875, 'X[1] <= 56.5\\nentropy = 0.65\\nsamples = 12\\nvalue = [0, 2, 10]'),\n",
              " Text(0.8765432098765432, 0.0625, 'entropy = 1.0\\nsamples = 4\\nvalue = [0, 2, 2]'),\n",
              " Text(0.9012345679012346, 0.0625, 'entropy = 0.0\\nsamples = 8\\nvalue = [0, 0, 8]'),\n",
              " Text(0.9135802469135802, 0.1875, 'entropy = 0.0\\nsamples = 2\\nvalue = [0, 2, 0]'),\n",
              " Text(0.8888888888888888, 0.4375, 'entropy = 0.0\\nsamples = 6\\nvalue = [0, 0, 6]'),\n",
              " Text(0.9753086419753086, 0.5625, 'X[2] <= 16.0\\nentropy = 0.946\\nsamples = 14\\nvalue = [2, 11, 1]'),\n",
              " Text(0.9629629629629629, 0.4375, 'X[6] <= 12.5\\nentropy = 0.619\\nsamples = 13\\nvalue = [2, 11, 0]'),\n",
              " Text(0.9506172839506173, 0.3125, 'X[2] <= 4.5\\nentropy = 1.0\\nsamples = 4\\nvalue = [2, 2, 0]'),\n",
              " Text(0.9382716049382716, 0.1875, 'entropy = 0.0\\nsamples = 2\\nvalue = [2, 0, 0]'),\n",
              " Text(0.9629629629629629, 0.1875, 'entropy = 0.0\\nsamples = 2\\nvalue = [0, 2, 0]'),\n",
              " Text(0.9753086419753086, 0.3125, 'entropy = 0.0\\nsamples = 9\\nvalue = [0, 9, 0]'),\n",
              " Text(0.9876543209876543, 0.4375, 'entropy = 0.0\\nsamples = 1\\nvalue = [0, 0, 1]')]"
            ]
          },
          "metadata": {},
          "execution_count": 190
        },
        {
          "output_type": "display_data",
          "data": {
            "text/plain": [
              "<Figure size 1080x1080 with 1 Axes>"
            ],
            "image/png": "[encoded data removed]"
          },
          "metadata": {
            "needs_background": "light"
          }
        }
      ]
    },
    {
      "cell_type": "markdown",
      "source": [
        "**Model 2.cart model**"
      ],
      "metadata": {
        "id": "SuKaNewQGe3a"
      }
    },
    {
      "cell_type": "markdown",
      "source": [
        "Gini-criterion"
      ],
      "metadata": {
        "id": "9GzFxN1HGiua"
      }
    },
    {
      "cell_type": "code",
      "source": [
        "model2=DecisionTreeClassifier(criterion='gini',max_depth=5)\n",
        "model2.fit(X_train,y_train)"
      ],
      "metadata": {
        "colab": {
          "base_uri": "https://localhost:8080/"
        },
        "id": "QM8SAGu8GeYS",
        "outputId": "02c868f5-e4c5-44ae-ff52-24387a545a6f"
      },
      "execution_count": 191,
      "outputs": [
        {
          "output_type": "execute_result",
          "data": {
            "text/plain": [
              "DecisionTreeClassifier(max_depth=5)"
            ]
          },
          "metadata": {},
          "execution_count": 191
        }
      ]
    },
    {
      "cell_type": "code",
      "source": [
        "y2_pred=model2.predict(X_test)"
      ],
      "metadata": {
        "id": "7re3BiRVH_v-"
      },
      "execution_count": 192,
      "outputs": []
    },
    {
      "cell_type": "code",
      "source": [
        "print(classification_report(y_test,y2_pred))"
      ],
      "metadata": {
        "colab": {
          "base_uri": "https://localhost:8080/"
        },
        "id": "X7sqFgKmIF7H",
        "outputId": "f5412174-d73e-4cd0-e2ae-c122586140a5"
      },
      "execution_count": 193,
      "outputs": [
        {
          "output_type": "stream",
          "name": "stdout",
          "text": [
            "              precision    recall  f1-score   support\n",
            "\n",
            "           1       0.67      0.12      0.21        16\n",
            "           2       0.70      0.90      0.79        48\n",
            "           3       0.75      0.75      0.75        16\n",
            "\n",
            "    accuracy                           0.71        80\n",
            "   macro avg       0.71      0.59      0.58        80\n",
            "weighted avg       0.71      0.71      0.67        80\n",
            "\n"
          ]
        }
      ]
    },
    {
      "cell_type": "markdown",
      "source": [
        "let us now change different parameters and check for improvement in the model"
      ],
      "metadata": {
        "id": "YBLxQ8nNIO0I"
      }
    },
    {
      "cell_type": "code",
      "source": [
        "for i in range(0,50):\n",
        "  X_train,X_test,y_train,y_test=train_test_split(X,y,test_size=.2,random_state=i)\n",
        "  model2=DecisionTreeClassifier(criterion='gini',max_depth=5)\n",
        "  model2.fit(X_train,y_train)\n",
        "  y2_pred=model2.predict(X_test)\n",
        "  print(accuracy_score(y_test,y2_pred),'==>',i)"
      ],
      "metadata": {
        "colab": {
          "base_uri": "https://localhost:8080/"
        },
        "id": "XCX-Bj58Iu2R",
        "outputId": "ed061e58-0303-4710-cd79-4b76c3e5fbc6"
      },
      "execution_count": 206,
      "outputs": [
        {
          "output_type": "stream",
          "name": "stdout",
          "text": [
            "0.675 ==> 0\n",
            "0.6 ==> 1\n",
            "0.6125 ==> 2\n",
            "0.6375 ==> 3\n",
            "0.6125 ==> 4\n",
            "0.6125 ==> 5\n",
            "0.675 ==> 6\n",
            "0.725 ==> 7\n",
            "0.725 ==> 8\n",
            "0.6875 ==> 9\n",
            "0.6375 ==> 10\n",
            "0.625 ==> 11\n",
            "0.65 ==> 12\n",
            "0.45 ==> 13\n",
            "0.6125 ==> 14\n",
            "0.6125 ==> 15\n",
            "0.6625 ==> 16\n",
            "0.675 ==> 17\n",
            "0.7125 ==> 18\n",
            "0.5875 ==> 19\n",
            "0.55 ==> 20\n",
            "0.5875 ==> 21\n",
            "0.65 ==> 22\n",
            "0.7125 ==> 23\n",
            "0.55 ==> 24\n",
            "0.6125 ==> 25\n",
            "0.575 ==> 26\n",
            "0.6625 ==> 27\n",
            "0.6375 ==> 28\n",
            "0.65 ==> 29\n",
            "0.725 ==> 30\n",
            "0.575 ==> 31\n",
            "0.7125 ==> 32\n",
            "0.5875 ==> 33\n",
            "0.525 ==> 34\n",
            "0.5875 ==> 35\n",
            "0.625 ==> 36\n",
            "0.6 ==> 37\n",
            "0.5625 ==> 38\n",
            "0.575 ==> 39\n",
            "0.5875 ==> 40\n",
            "0.5875 ==> 41\n",
            "0.6125 ==> 42\n",
            "0.6 ==> 43\n",
            "0.65 ==> 44\n",
            "0.6375 ==> 45\n",
            "0.675 ==> 46\n",
            "0.6125 ==> 47\n",
            "0.6125 ==> 48\n",
            "0.6375 ==> 49\n"
          ]
        }
      ]
    },
    {
      "cell_type": "markdown",
      "source": [
        "Random state=30 is having highest accuracy"
      ],
      "metadata": {
        "id": "bUw2IAVCKQHl"
      }
    },
    {
      "cell_type": "code",
      "source": [
        "for i in range(1,20):\n",
        "  X_train,X_test,y_train,y_test=train_test_split(X,y,test_size=.2,random_state=30)\n",
        "  model2=DecisionTreeClassifier(criterion='gini',max_depth=i)\n",
        "  model2.fit(X_train,y_train)\n",
        "  y2_pred=model2.predict(X_test)\n",
        "  print(accuracy_score(y_test,y2_pred),'==>',i)"
      ],
      "metadata": {
        "colab": {
          "base_uri": "https://localhost:8080/"
        },
        "id": "F6-KkBBIIUFa",
        "outputId": "191a859f-ff33-433f-9c07-90a4209668cf"
      },
      "execution_count": 207,
      "outputs": [
        {
          "output_type": "stream",
          "name": "stdout",
          "text": [
            "0.6625 ==> 1\n",
            "0.75 ==> 2\n",
            "0.75 ==> 3\n",
            "0.725 ==> 4\n",
            "0.725 ==> 5\n",
            "0.7125 ==> 6\n",
            "0.7125 ==> 7\n",
            "0.6625 ==> 8\n",
            "0.65 ==> 9\n",
            "0.6625 ==> 10\n",
            "0.675 ==> 11\n",
            "0.625 ==> 12\n",
            "0.6375 ==> 13\n",
            "0.6625 ==> 14\n",
            "0.625 ==> 15\n",
            "0.675 ==> 16\n",
            "0.6 ==> 17\n",
            "0.675 ==> 18\n",
            "0.6875 ==> 19\n"
          ]
        }
      ]
    },
    {
      "cell_type": "markdown",
      "source": [
        "Max depth 3 is having highest accuracy in gini criterion with accuracy score of 75%"
      ],
      "metadata": {
        "id": "8rrft6SxKib1"
      }
    },
    {
      "cell_type": "code",
      "source": [
        "fig=plt.figure(figsize=(15,15))\n",
        "tree.plot_tree(model2)"
      ],
      "metadata": {
        "colab": {
          "base_uri": "https://localhost:8080/",
          "height": 1000
        },
        "id": "Bbd_EFN7Kqpg",
        "outputId": "2a027eee-e584-425c-93d3-53d3657d22e0"
      },
      "execution_count": 209,
      "outputs": [
        {
          "output_type": "execute_result",
          "data": {
            "text/plain": [
              "[Text(0.6748880119453925, 0.9615384615384616, 'X[7] <= 0.5\\ngini = 0.567\\nsamples = 320\\nvalue = [66, 189, 65]'),\n",
              " Text(0.4521651023890785, 0.8846153846153846, 'X[4] <= 120.5\\ngini = 0.51\\nsamples = 253\\nvalue = [64, 163, 26]'),\n",
              " Text(0.1671288395904437, 0.8076923076923077, 'X[4] <= 88.0\\ngini = 0.455\\nsamples = 144\\nvalue = [19, 102, 23]'),\n",
              " Text(0.08191126279863481, 0.7307692307692307, 'X[1] <= 102.0\\ngini = 0.532\\nsamples = 27\\nvalue = [1, 14, 12]'),\n",
              " Text(0.040955631399317405, 0.6538461538461539, 'X[3] <= 73.5\\ngini = 0.485\\nsamples = 20\\nvalue = [1, 13, 6]'),\n",
              " Text(0.027303754266211604, 0.5769230769230769, 'gini = 0.0\\nsamples = 3\\nvalue = [0, 0, 3]'),\n",
              " Text(0.05460750853242321, 0.5769230769230769, 'X[5] <= 29.0\\ngini = 0.381\\nsamples = 17\\nvalue = [1, 13, 3]'),\n",
              " Text(0.040955631399317405, 0.5, 'gini = 0.0\\nsamples = 1\\nvalue = [0, 0, 1]'),\n",
              " Text(0.06825938566552901, 0.5, 'X[1] <= 41.0\\ngini = 0.32\\nsamples = 16\\nvalue = [1, 13, 2]'),\n",
              " Text(0.027303754266211604, 0.4230769230769231, 'X[5] <= 47.5\\ngini = 0.667\\nsamples = 3\\nvalue = [1, 1, 1]'),\n",
              " Text(0.013651877133105802, 0.34615384615384615, 'gini = 0.0\\nsamples = 1\\nvalue = [0, 1, 0]'),\n",
              " Text(0.040955631399317405, 0.34615384615384615, 'X[9] <= 0.5\\ngini = 0.5\\nsamples = 2\\nvalue = [1, 0, 1]'),\n",
              " Text(0.027303754266211604, 0.2692307692307692, 'gini = 0.0\\nsamples = 1\\nvalue = [1, 0, 0]'),\n",
              " Text(0.05460750853242321, 0.2692307692307692, 'gini = 0.0\\nsamples = 1\\nvalue = [0, 0, 1]'),\n",
              " Text(0.10921501706484642, 0.4230769230769231, 'X[5] <= 38.5\\ngini = 0.142\\nsamples = 13\\nvalue = [0, 12, 1]'),\n",
              " Text(0.09556313993174062, 0.34615384615384615, 'X[2] <= 1.5\\ngini = 0.444\\nsamples = 3\\nvalue = [0, 2, 1]'),\n",
              " Text(0.08191126279863481, 0.2692307692307692, 'gini = 0.0\\nsamples = 2\\nvalue = [0, 2, 0]'),\n",
              " Text(0.10921501706484642, 0.2692307692307692, 'gini = 0.0\\nsamples = 1\\nvalue = [0, 0, 1]'),\n",
              " Text(0.12286689419795221, 0.34615384615384615, 'gini = 0.0\\nsamples = 10\\nvalue = [0, 10, 0]'),\n",
              " Text(0.12286689419795221, 0.6538461538461539, 'X[0] <= 95.5\\ngini = 0.245\\nsamples = 7\\nvalue = [0, 1, 6]'),\n",
              " Text(0.10921501706484642, 0.5769230769230769, 'X[6] <= 14.0\\ngini = 0.5\\nsamples = 2\\nvalue = [0, 1, 1]'),\n",
              " Text(0.09556313993174062, 0.5, 'gini = 0.0\\nsamples = 1\\nvalue = [0, 1, 0]'),\n",
              " Text(0.12286689419795221, 0.5, 'gini = 0.0\\nsamples = 1\\nvalue = [0, 0, 1]'),\n",
              " Text(0.13651877133105803, 0.5769230769230769, 'gini = 0.0\\nsamples = 5\\nvalue = [0, 0, 5]'),\n",
              " Text(0.2523464163822526, 0.7307692307692307, 'X[0] <= 99.5\\ngini = 0.402\\nsamples = 117\\nvalue = [18, 88, 11]'),\n",
              " Text(0.17747440273037543, 0.6538461538461539, 'X[1] <= 92.5\\ngini = 0.408\\nsamples = 7\\nvalue = [5, 2, 0]'),\n",
              " Text(0.16382252559726962, 0.5769230769230769, 'gini = 0.0\\nsamples = 5\\nvalue = [5, 0, 0]'),\n",
              " Text(0.19112627986348124, 0.5769230769230769, 'gini = 0.0\\nsamples = 2\\nvalue = [0, 2, 0]'),\n",
              " Text(0.3272184300341297, 0.6538461538461539, 'X[8] <= 0.5\\ngini = 0.365\\nsamples = 110\\nvalue = [13, 86, 11]'),\n",
              " Text(0.21843003412969283, 0.5769230769230769, 'X[5] <= 54.5\\ngini = 0.471\\nsamples = 32\\nvalue = [10, 21, 1]'),\n",
              " Text(0.19112627986348124, 0.5, 'X[0] <= 142.5\\ngini = 0.272\\nsamples = 13\\nvalue = [1, 11, 1]'),\n",
              " Text(0.17747440273037543, 0.4230769230769231, 'X[3] <= 487.0\\ngini = 0.153\\nsamples = 12\\nvalue = [1, 11, 0]'),\n",
              " Text(0.16382252559726962, 0.34615384615384615, 'gini = 0.0\\nsamples = 11\\nvalue = [0, 11, 0]'),\n",
              " Text(0.19112627986348124, 0.34615384615384615, 'gini = 0.0\\nsamples = 1\\nvalue = [1, 0, 0]'),\n",
              " Text(0.20477815699658702, 0.4230769230769231, 'gini = 0.0\\nsamples = 1\\nvalue = [0, 0, 1]'),\n",
              " Text(0.24573378839590443, 0.5, 'X[5] <= 57.0\\ngini = 0.499\\nsamples = 19\\nvalue = [9, 10, 0]'),\n",
              " Text(0.23208191126279865, 0.4230769230769231, 'gini = 0.0\\nsamples = 4\\nvalue = [4, 0, 0]'),\n",
              " Text(0.2593856655290102, 0.4230769230769231, 'X[4] <= 97.5\\ngini = 0.444\\nsamples = 15\\nvalue = [5, 10, 0]'),\n",
              " Text(0.24573378839590443, 0.34615384615384615, 'gini = 0.0\\nsamples = 5\\nvalue = [0, 5, 0]'),\n",
              " Text(0.27303754266211605, 0.34615384615384615, 'X[0] <= 105.5\\ngini = 0.5\\nsamples = 10\\nvalue = [5, 5, 0]'),\n",
              " Text(0.2593856655290102, 0.2692307692307692, 'gini = 0.0\\nsamples = 2\\nvalue = [0, 2, 0]'),\n",
              " Text(0.28668941979522183, 0.2692307692307692, 'X[4] <= 109.0\\ngini = 0.469\\nsamples = 8\\nvalue = [5, 3, 0]'),\n",
              " Text(0.27303754266211605, 0.19230769230769232, 'gini = 0.0\\nsamples = 4\\nvalue = [4, 0, 0]'),\n",
              " Text(0.3003412969283277, 0.19230769230769232, 'X[1] <= 94.0\\ngini = 0.375\\nsamples = 4\\nvalue = [1, 3, 0]'),\n",
              " Text(0.28668941979522183, 0.11538461538461539, 'gini = 0.0\\nsamples = 3\\nvalue = [0, 3, 0]'),\n",
              " Text(0.31399317406143346, 0.11538461538461539, 'gini = 0.0\\nsamples = 1\\nvalue = [1, 0, 0]'),\n",
              " Text(0.43600682593856654, 0.5769230769230769, 'X[2] <= 17.5\\ngini = 0.288\\nsamples = 78\\nvalue = [3, 65, 10]'),\n",
              " Text(0.39078498293515357, 0.5, 'X[4] <= 95.0\\ngini = 0.241\\nsamples = 74\\nvalue = [3, 64, 7]'),\n",
              " Text(0.3412969283276451, 0.4230769230769231, 'X[5] <= 52.0\\ngini = 0.463\\nsamples = 11\\nvalue = [0, 7, 4]'),\n",
              " Text(0.32764505119453924, 0.34615384615384615, 'X[0] <= 114.0\\ngini = 0.32\\nsamples = 5\\nvalue = [0, 1, 4]'),\n",
              " Text(0.31399317406143346, 0.2692307692307692, 'gini = 0.0\\nsamples = 1\\nvalue = [0, 1, 0]'),\n",
              " Text(0.3412969283276451, 0.2692307692307692, 'gini = 0.0\\nsamples = 4\\nvalue = [0, 0, 4]'),\n",
              " Text(0.35494880546075086, 0.34615384615384615, 'gini = 0.0\\nsamples = 6\\nvalue = [0, 6, 0]'),\n",
              " Text(0.4402730375426621, 0.4230769230769231, 'X[6] <= 10.5\\ngini = 0.177\\nsamples = 63\\nvalue = [3, 57, 3]'),\n",
              " Text(0.3822525597269625, 0.34615384615384615, 'X[3] <= 363.5\\ngini = 0.494\\nsamples = 9\\nvalue = [1, 6, 2]'),\n",
              " Text(0.36860068259385664, 0.2692307692307692, 'gini = 0.0\\nsamples = 5\\nvalue = [0, 5, 0]'),\n",
              " Text(0.39590443686006827, 0.2692307692307692, 'X[1] <= 94.5\\ngini = 0.625\\nsamples = 4\\nvalue = [1, 1, 2]'),\n",
              " Text(0.3822525597269625, 0.19230769230769232, 'X[4] <= 113.5\\ngini = 0.5\\nsamples = 2\\nvalue = [1, 1, 0]'),\n",
              " Text(0.36860068259385664, 0.11538461538461539, 'gini = 0.0\\nsamples = 1\\nvalue = [1, 0, 0]'),\n",
              " Text(0.39590443686006827, 0.11538461538461539, 'gini = 0.0\\nsamples = 1\\nvalue = [0, 1, 0]'),\n",
              " Text(0.40955631399317405, 0.19230769230769232, 'gini = 0.0\\nsamples = 2\\nvalue = [0, 0, 2]'),\n",
              " Text(0.49829351535836175, 0.34615384615384615, 'X[1] <= 112.5\\ngini = 0.106\\nsamples = 54\\nvalue = [2, 51, 1]'),\n",
              " Text(0.4641638225255973, 0.2692307692307692, 'X[0] <= 143.0\\ngini = 0.075\\nsamples = 52\\nvalue = [1, 50, 1]'),\n",
              " Text(0.43686006825938567, 0.19230769230769232, 'X[1] <= 29.0\\ngini = 0.042\\nsamples = 47\\nvalue = [1, 46, 0]'),\n",
              " Text(0.4232081911262799, 0.11538461538461539, 'X[3] <= 460.0\\ngini = 0.32\\nsamples = 5\\nvalue = [1, 4, 0]'),\n",
              " Text(0.40955631399317405, 0.038461538461538464, 'gini = 0.0\\nsamples = 4\\nvalue = [0, 4, 0]'),\n",
              " Text(0.43686006825938567, 0.038461538461538464, 'gini = 0.0\\nsamples = 1\\nvalue = [1, 0, 0]'),\n",
              " Text(0.45051194539249145, 0.11538461538461539, 'gini = 0.0\\nsamples = 42\\nvalue = [0, 42, 0]'),\n",
              " Text(0.49146757679180886, 0.19230769230769232, 'X[6] <= 11.5\\ngini = 0.32\\nsamples = 5\\nvalue = [0, 4, 1]'),\n",
              " Text(0.4778156996587031, 0.11538461538461539, 'gini = 0.0\\nsamples = 1\\nvalue = [0, 0, 1]'),\n",
              " Text(0.5051194539249146, 0.11538461538461539, 'gini = 0.0\\nsamples = 4\\nvalue = [0, 4, 0]'),\n",
              " Text(0.5324232081911263, 0.2692307692307692, 'X[4] <= 110.0\\ngini = 0.5\\nsamples = 2\\nvalue = [1, 1, 0]'),\n",
              " Text(0.5187713310580204, 0.19230769230769232, 'gini = 0.0\\nsamples = 1\\nvalue = [1, 0, 0]'),\n",
              " Text(0.5460750853242321, 0.19230769230769232, 'gini = 0.0\\nsamples = 1\\nvalue = [0, 1, 0]'),\n",
              " Text(0.4812286689419795, 0.5, 'X[1] <= 51.0\\ngini = 0.375\\nsamples = 4\\nvalue = [0, 1, 3]'),\n",
              " Text(0.46757679180887374, 0.4230769230769231, 'gini = 0.0\\nsamples = 1\\nvalue = [0, 1, 0]'),\n",
              " Text(0.4948805460750853, 0.4230769230769231, 'gini = 0.0\\nsamples = 3\\nvalue = [0, 0, 3]'),\n",
              " Text(0.7372013651877133, 0.8076923076923077, 'X[0] <= 147.5\\ngini = 0.516\\nsamples = 109\\nvalue = [45, 61, 3]'),\n",
              " Text(0.6655290102389079, 0.7307692307692307, 'X[2] <= 4.5\\ngini = 0.521\\nsamples = 91\\nvalue = [44, 45, 2]'),\n",
              " Text(0.5767918088737202, 0.6538461538461539, 'X[5] <= 36.5\\ngini = 0.454\\nsamples = 43\\nvalue = [28, 15, 0]'),\n",
              " Text(0.5494880546075085, 0.5769230769230769, 'X[5] <= 26.0\\ngini = 0.32\\nsamples = 10\\nvalue = [2, 8, 0]'),\n",
              " Text(0.5358361774744027, 0.5, 'X[6] <= 12.5\\ngini = 0.444\\nsamples = 3\\nvalue = [2, 1, 0]'),\n",
              " Text(0.5221843003412969, 0.4230769230769231, 'gini = 0.0\\nsamples = 1\\nvalue = [0, 1, 0]'),\n",
              " Text(0.5494880546075085, 0.4230769230769231, 'gini = 0.0\\nsamples = 2\\nvalue = [2, 0, 0]'),\n",
              " Text(0.5631399317406144, 0.5, 'gini = 0.0\\nsamples = 7\\nvalue = [0, 7, 0]'),\n",
              " Text(0.6040955631399317, 0.5769230769230769, 'X[0] <= 131.5\\ngini = 0.334\\nsamples = 33\\nvalue = [26, 7, 0]'),\n",
              " Text(0.590443686006826, 0.5, 'gini = 0.0\\nsamples = 15\\nvalue = [15, 0, 0]'),\n",
              " Text(0.6177474402730375, 0.5, 'X[6] <= 12.5\\ngini = 0.475\\nsamples = 18\\nvalue = [11, 7, 0]'),\n",
              " Text(0.5767918088737202, 0.4230769230769231, 'X[4] <= 131.5\\ngini = 0.408\\nsamples = 7\\nvalue = [2, 5, 0]'),\n",
              " Text(0.5631399317406144, 0.34615384615384615, 'gini = 0.0\\nsamples = 4\\nvalue = [0, 4, 0]'),\n",
              " Text(0.590443686006826, 0.34615384615384615, 'X[4] <= 145.0\\ngini = 0.444\\nsamples = 3\\nvalue = [2, 1, 0]'),\n",
              " Text(0.5767918088737202, 0.2692307692307692, 'gini = 0.0\\nsamples = 2\\nvalue = [2, 0, 0]'),\n",
              " Text(0.6040955631399317, 0.2692307692307692, 'gini = 0.0\\nsamples = 1\\nvalue = [0, 1, 0]'),\n",
              " Text(0.658703071672355, 0.4230769230769231, 'X[6] <= 17.5\\ngini = 0.298\\nsamples = 11\\nvalue = [9, 2, 0]'),\n",
              " Text(0.6450511945392492, 0.34615384615384615, 'X[3] <= 113.0\\ngini = 0.18\\nsamples = 10\\nvalue = [9, 1, 0]'),\n",
              " Text(0.6313993174061433, 0.2692307692307692, 'gini = 0.0\\nsamples = 1\\nvalue = [0, 1, 0]'),\n",
              " Text(0.658703071672355, 0.2692307692307692, 'gini = 0.0\\nsamples = 9\\nvalue = [9, 0, 0]'),\n",
              " Text(0.6723549488054608, 0.34615384615384615, 'gini = 0.0\\nsamples = 1\\nvalue = [0, 1, 0]'),\n",
              " Text(0.7542662116040956, 0.6538461538461539, 'X[5] <= 65.0\\ngini = 0.497\\nsamples = 48\\nvalue = [16, 30, 2]'),\n",
              " Text(0.726962457337884, 0.5769230769230769, 'X[4] <= 157.0\\ngini = 0.418\\nsamples = 37\\nvalue = [8, 27, 2]'),\n",
              " Text(0.7133105802047781, 0.5, 'X[3] <= 38.0\\ngini = 0.344\\nsamples = 34\\nvalue = [5, 27, 2]'),\n",
              " Text(0.6996587030716723, 0.4230769230769231, 'gini = 0.0\\nsamples = 1\\nvalue = [1, 0, 0]'),\n",
              " Text(0.726962457337884, 0.4230769230769231, 'X[3] <= 488.5\\ngini = 0.312\\nsamples = 33\\nvalue = [4, 27, 2]'),\n",
              " Text(0.7133105802047781, 0.34615384615384615, 'X[5] <= 37.0\\ngini = 0.275\\nsamples = 32\\nvalue = [3, 27, 2]'),\n",
              " Text(0.6860068259385665, 0.2692307692307692, 'X[2] <= 12.5\\ngini = 0.494\\nsamples = 9\\nvalue = [1, 6, 2]'),\n",
              " Text(0.6723549488054608, 0.19230769230769232, 'gini = 0.0\\nsamples = 5\\nvalue = [0, 5, 0]'),\n",
              " Text(0.6996587030716723, 0.19230769230769232, 'X[0] <= 132.5\\ngini = 0.625\\nsamples = 4\\nvalue = [1, 1, 2]'),\n",
              " Text(0.6860068259385665, 0.11538461538461539, 'X[2] <= 16.0\\ngini = 0.5\\nsamples = 2\\nvalue = [1, 1, 0]'),\n",
              " Text(0.6723549488054608, 0.038461538461538464, 'gini = 0.0\\nsamples = 1\\nvalue = [1, 0, 0]'),\n",
              " Text(0.6996587030716723, 0.038461538461538464, 'gini = 0.0\\nsamples = 1\\nvalue = [0, 1, 0]'),\n",
              " Text(0.7133105802047781, 0.11538461538461539, 'gini = 0.0\\nsamples = 2\\nvalue = [0, 0, 2]'),\n",
              " Text(0.7406143344709898, 0.2692307692307692, 'X[5] <= 61.5\\ngini = 0.159\\nsamples = 23\\nvalue = [2, 21, 0]'),\n",
              " Text(0.726962457337884, 0.19230769230769232, 'gini = 0.0\\nsamples = 17\\nvalue = [0, 17, 0]'),\n",
              " Text(0.7542662116040956, 0.19230769230769232, 'X[5] <= 62.5\\ngini = 0.444\\nsamples = 6\\nvalue = [2, 4, 0]'),\n",
              " Text(0.7406143344709898, 0.11538461538461539, 'X[3] <= 382.5\\ngini = 0.444\\nsamples = 3\\nvalue = [2, 1, 0]'),\n",
              " Text(0.726962457337884, 0.038461538461538464, 'gini = 0.0\\nsamples = 2\\nvalue = [2, 0, 0]'),\n",
              " Text(0.7542662116040956, 0.038461538461538464, 'gini = 0.0\\nsamples = 1\\nvalue = [0, 1, 0]'),\n",
              " Text(0.7679180887372014, 0.11538461538461539, 'gini = 0.0\\nsamples = 3\\nvalue = [0, 3, 0]'),\n",
              " Text(0.7406143344709898, 0.34615384615384615, 'gini = 0.0\\nsamples = 1\\nvalue = [1, 0, 0]'),\n",
              " Text(0.7406143344709898, 0.5, 'gini = 0.0\\nsamples = 3\\nvalue = [3, 0, 0]'),\n",
              " Text(0.7815699658703071, 0.5769230769230769, 'X[4] <= 131.5\\ngini = 0.397\\nsamples = 11\\nvalue = [8, 3, 0]'),\n",
              " Text(0.7679180887372014, 0.5, 'X[3] <= 305.5\\ngini = 0.5\\nsamples = 6\\nvalue = [3, 3, 0]'),\n",
              " Text(0.7542662116040956, 0.4230769230769231, 'gini = 0.0\\nsamples = 3\\nvalue = [0, 3, 0]'),\n",
              " Text(0.7815699658703071, 0.4230769230769231, 'gini = 0.0\\nsamples = 3\\nvalue = [3, 0, 0]'),\n",
              " Text(0.7952218430034129, 0.5, 'gini = 0.0\\nsamples = 5\\nvalue = [5, 0, 0]'),\n",
              " Text(0.8088737201365188, 0.7307692307692307, 'X[4] <= 122.5\\ngini = 0.204\\nsamples = 18\\nvalue = [1, 16, 1]'),\n",
              " Text(0.7952218430034129, 0.6538461538461539, 'gini = 0.0\\nsamples = 1\\nvalue = [0, 0, 1]'),\n",
              " Text(0.8225255972696246, 0.6538461538461539, 'X[5] <= 76.5\\ngini = 0.111\\nsamples = 17\\nvalue = [1, 16, 0]'),\n",
              " Text(0.8088737201365188, 0.5769230769230769, 'gini = 0.0\\nsamples = 16\\nvalue = [0, 16, 0]'),\n",
              " Text(0.8361774744027304, 0.5769230769230769, 'gini = 0.0\\nsamples = 1\\nvalue = [1, 0, 0]'),\n",
              " Text(0.8976109215017065, 0.8846153846153846, 'X[4] <= 109.5\\ngini = 0.51\\nsamples = 67\\nvalue = [2, 26, 39]'),\n",
              " Text(0.8498293515358362, 0.8076923076923077, 'X[6] <= 17.5\\ngini = 0.091\\nsamples = 21\\nvalue = [0, 1, 20]'),\n",
              " Text(0.8361774744027304, 0.7307692307692307, 'gini = 0.0\\nsamples = 18\\nvalue = [0, 0, 18]'),\n",
              " Text(0.863481228668942, 0.7307692307692307, 'X[10] <= 0.5\\ngini = 0.444\\nsamples = 3\\nvalue = [0, 1, 2]'),\n",
              " Text(0.8498293515358362, 0.6538461538461539, 'gini = 0.0\\nsamples = 1\\nvalue = [0, 1, 0]'),\n",
              " Text(0.8771331058020477, 0.6538461538461539, 'gini = 0.0\\nsamples = 2\\nvalue = [0, 0, 2]'),\n",
              " Text(0.9453924914675768, 0.8076923076923077, 'X[2] <= 13.5\\ngini = 0.532\\nsamples = 46\\nvalue = [2, 25, 19]'),\n",
              " Text(0.9180887372013652, 0.7307692307692307, 'X[1] <= 43.0\\ngini = 0.488\\nsamples = 37\\nvalue = [2, 24, 11]'),\n",
              " Text(0.9044368600682594, 0.6538461538461539, 'gini = 0.0\\nsamples = 12\\nvalue = [0, 12, 0]'),\n",
              " Text(0.931740614334471, 0.6538461538461539, 'X[0] <= 141.0\\ngini = 0.57\\nsamples = 25\\nvalue = [2, 12, 11]'),\n",
              " Text(0.9044368600682594, 0.5769230769230769, 'X[6] <= 10.5\\ngini = 0.475\\nsamples = 18\\nvalue = [1, 12, 5]'),\n",
              " Text(0.8907849829351536, 0.5, 'gini = 0.0\\nsamples = 2\\nvalue = [0, 0, 2]'),\n",
              " Text(0.9180887372013652, 0.5, 'X[5] <= 76.0\\ngini = 0.398\\nsamples = 16\\nvalue = [1, 12, 3]'),\n",
              " Text(0.9044368600682594, 0.4230769230769231, 'X[6] <= 17.5\\ngini = 0.32\\nsamples = 15\\nvalue = [0, 12, 3]'),\n",
              " Text(0.8907849829351536, 0.34615384615384615, 'X[1] <= 47.0\\ngini = 0.245\\nsamples = 14\\nvalue = [0, 12, 2]'),\n",
              " Text(0.8771331058020477, 0.2692307692307692, 'gini = 0.0\\nsamples = 1\\nvalue = [0, 0, 1]'),\n",
              " Text(0.9044368600682594, 0.2692307692307692, 'X[3] <= 445.5\\ngini = 0.142\\nsamples = 13\\nvalue = [0, 12, 1]'),\n",
              " Text(0.8907849829351536, 0.19230769230769232, 'gini = 0.0\\nsamples = 11\\nvalue = [0, 11, 0]'),\n",
              " Text(0.9180887372013652, 0.19230769230769232, 'X[6] <= 12.5\\ngini = 0.5\\nsamples = 2\\nvalue = [0, 1, 1]'),\n",
              " Text(0.9044368600682594, 0.11538461538461539, 'gini = 0.0\\nsamples = 1\\nvalue = [0, 1, 0]'),\n",
              " Text(0.931740614334471, 0.11538461538461539, 'gini = 0.0\\nsamples = 1\\nvalue = [0, 0, 1]'),\n",
              " Text(0.9180887372013652, 0.34615384615384615, 'gini = 0.0\\nsamples = 1\\nvalue = [0, 0, 1]'),\n",
              " Text(0.931740614334471, 0.4230769230769231, 'gini = 0.0\\nsamples = 1\\nvalue = [1, 0, 0]'),\n",
              " Text(0.9590443686006825, 0.5769230769230769, 'X[4] <= 156.5\\ngini = 0.245\\nsamples = 7\\nvalue = [1, 0, 6]'),\n",
              " Text(0.9453924914675768, 0.5, 'gini = 0.0\\nsamples = 6\\nvalue = [0, 0, 6]'),\n",
              " Text(0.9726962457337884, 0.5, 'gini = 0.0\\nsamples = 1\\nvalue = [1, 0, 0]'),\n",
              " Text(0.9726962457337884, 0.7307692307692307, 'X[0] <= 112.0\\ngini = 0.198\\nsamples = 9\\nvalue = [0, 1, 8]'),\n",
              " Text(0.9590443686006825, 0.6538461538461539, 'gini = 0.0\\nsamples = 1\\nvalue = [0, 1, 0]'),\n",
              " Text(0.9863481228668942, 0.6538461538461539, 'gini = 0.0\\nsamples = 8\\nvalue = [0, 0, 8]')]"
            ]
          },
          "metadata": {},
          "execution_count": 209
        },
        {
          "output_type": "display_data",
          "data": {
            "text/plain": [
              "<Figure size 1080x1080 with 1 Axes>"
            ],
            "image/png": "[encoded data removed]"
          },
          "metadata": {
            "needs_background": "light"
          }
        }
      ]
    },
    {
      "cell_type": "markdown",
      "source": [
        "The Best model is using the Entropy model with accuracy=78%"
      ],
      "metadata": {
        "id": "wFFy4JvMKpT7"
      }
    },
    {
      "cell_type": "markdown",
      "source": [
        "Let us now change the validation technique to kFold"
      ],
      "metadata": {
        "id": "T3cEWLJQK_WY"
      }
    },
    {
      "cell_type": "code",
      "source": [
        "from sklearn.model_selection import KFold\n",
        "from sklearn.model_selection import cross_val_score\n",
        "num_folds=10\n",
        "kfold=KFold(n_splits=num_folds)\n",
        "model2=DecisionTreeClassifier(criterion='entropy',max_depth=7)\n",
        "results=cross_val_score(model2,X,y,cv=kfold)\n",
        "print(results.mean())"
      ],
      "metadata": {
        "colab": {
          "base_uri": "https://localhost:8080/"
        },
        "id": "f9cBqzlZLCYc",
        "outputId": "99fdfb66-b30e-4a73-b256-85f2e1c88783"
      },
      "execution_count": 210,
      "outputs": [
        {
          "output_type": "stream",
          "name": "stdout",
          "text": [
            "0.6375\n"
          ]
        }
      ]
    },
    {
      "cell_type": "code",
      "source": [
        "print(results)"
      ],
      "metadata": {
        "colab": {
          "base_uri": "https://localhost:8080/"
        },
        "id": "U_mlWpLSLp1E",
        "outputId": "5e5c84f1-385e-44e6-9e55-0437da4adaf7"
      },
      "execution_count": 211,
      "outputs": [
        {
          "output_type": "stream",
          "name": "stdout",
          "text": [
            "[0.7   0.45  0.625 0.625 0.675 0.625 0.6   0.65  0.65  0.775]\n"
          ]
        }
      ]
    },
    {
      "cell_type": "markdown",
      "source": [
        "No improvement in the model"
      ],
      "metadata": {
        "id": "tV0aBpybLtcv"
      }
    },
    {
      "cell_type": "code",
      "source": [
        "from sklearn.model_selection import KFold\n",
        "from sklearn.model_selection import cross_val_score\n",
        "num_folds=10\n",
        "kfold=KFold(n_splits=num_folds)\n",
        "model2=DecisionTreeClassifier(criterion='gini',max_depth=7)\n",
        "results=cross_val_score(model2,X,y,cv=kfold)\n",
        "print(results.mean())"
      ],
      "metadata": {
        "colab": {
          "base_uri": "https://localhost:8080/"
        },
        "id": "fQITD-tWLv0T",
        "outputId": "79f9b874-9663-45bf-dbe4-dea0446370cd"
      },
      "execution_count": 218,
      "outputs": [
        {
          "output_type": "stream",
          "name": "stdout",
          "text": [
            "0.635\n"
          ]
        }
      ]
    },
    {
      "cell_type": "markdown",
      "source": [
        "No improvement in the model"
      ],
      "metadata": {
        "id": "1lERVP_BL-En"
      }
    }
  ]
}